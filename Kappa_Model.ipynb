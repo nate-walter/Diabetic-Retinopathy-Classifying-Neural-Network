{
  "nbformat": 4,
  "nbformat_minor": 5,
  "metadata": {
    "kernelspec": {
      "name": "python3",
      "display_name": "Python 3"
    },
    "colab": {
      "name": "Kappa_Model.ipynb",
      "provenance": [],
      "collapsed_sections": [],
      "machine_shape": "hm",
      "include_colab_link": true
    },
    "language_info": {
      "name": "python"
    },
    "accelerator": "GPU"
  },
  "cells": [
    {
      "cell_type": "markdown",
      "metadata": {
        "id": "view-in-github",
        "colab_type": "text"
      },
      "source": [
        "<a href=\"https://colab.research.google.com/github/nate-walter/Diabetic-Retinopathy-Neural-Network/blob/main/Kappa_Model.ipynb\" target=\"_parent\"><img src=\"https://colab.research.google.com/assets/colab-badge.svg\" alt=\"Open In Colab\"/></a>"
      ]
    },
    {
      "cell_type": "markdown",
      "metadata": {
        "id": "xvdEn68aK-OS"
      },
      "source": [
        "# In this Notebook, AdamW was used (after much trouble) as the compiler"
      ],
      "id": "xvdEn68aK-OS"
    },
    {
      "cell_type": "code",
      "metadata": {
        "id": "wHNPfNPz0xUo",
        "colab": {
          "base_uri": "https://localhost:8080/"
        },
        "outputId": "5235ffcc-4aa7-40be-a5aa-c93604b3f1ec"
      },
      "source": [
        "# from google.colab import drive\n",
        "# drive.mount('/content/gdrive')"
      ],
      "id": "wHNPfNPz0xUo",
      "execution_count": null,
      "outputs": [
        {
          "output_type": "stream",
          "name": "stdout",
          "text": [
            "Drive already mounted at /content/gdrive; to attempt to forcibly remount, call drive.mount(\"/content/gdrive\", force_remount=True).\n"
          ]
        }
      ]
    },
    {
      "cell_type": "code",
      "metadata": {
        "id": "NWLI8Wsz0xfU"
      },
      "source": [
        "# !unzip /content/gdrive/MyDrive/IDRid_train_floder/fianl_IDRiD_train_images.zip > /dev/null\n",
        "# !unzip /content/gdrive/MyDrive/test_IDRiD_test/test_image2s.zip > /dev/null\n",
        "# !unzip /content/gdrive/MyDrive/aptos-folder/train_aptos.zip > /dev/null\n",
        "# !unzip /content/gdrive/MyDrive/resized-folder/train_resized.zip > /dev/null\n",
        "# !unzip /content/gdrive/MyDrive/combined_folder/train_combined.zip > /dev/null"
      ],
      "id": "NWLI8Wsz0xfU",
      "execution_count": null,
      "outputs": []
    },
    {
      "cell_type": "code",
      "metadata": {
        "id": "E9ffspJY0yIS"
      },
      "source": [
        "# !pip install tensorflow-addons > /dev/null\n",
        "# !pip install keras_tuner > /dev/null\n",
        "# !pip install tensorflow > /dev/null"
      ],
      "id": "E9ffspJY0yIS",
      "execution_count": null,
      "outputs": []
    },
    {
      "cell_type": "markdown",
      "metadata": {
        "id": "eb2b3499"
      },
      "source": [
        "# Cleaning and  EDA\n"
      ],
      "id": "eb2b3499"
    },
    {
      "cell_type": "code",
      "metadata": {
        "id": "434a27ab"
      },
      "source": [
        "import pandas as pd\n",
        "import numpy as np\n",
        "import matplotlib.pyplot as plt\n",
        "from matplotlib import image\n",
        "import seaborn as sns\n",
        "\n",
        "import tensorflow as tf\n",
        "import keras                                               \n",
        "from keras.models import Model, save_model\n",
        "from keras.models import Sequential\n",
        "#**Import from keras_preprocessing not from keras.preprocessing**\n",
        "from keras.preprocessing import image\n",
        "from keras_preprocessing.image import ImageDataGenerator, load_img, img_to_array\n",
        "from keras.layers import Dense, Activation, Flatten, Dropout, BatchNormalization, Conv2D, MaxPooling2D, GlobalAveragePooling2D\n",
        "from keras import regularizers, optimizers, applications\n",
        "from tensorflow.keras.optimizers import RMSprop, Adam \n",
        "from tensorflow.keras import layers\n",
        "import tensorflow_addons as tsa\n",
        "from tensorflow_addons.optimizers import AdamW \n",
        "\n",
        "\n",
        "from sklearn.model_selection import train_test_split\n",
        "from sklearn import metrics\n",
        "from sklearn.metrics import classification_report, confusion_matrix"
      ],
      "id": "434a27ab",
      "execution_count": null,
      "outputs": []
    },
    {
      "cell_type": "markdown",
      "metadata": {
        "id": "b06cf4b1"
      },
      "source": [
        "## Aptos 2019 Dataset"
      ],
      "id": "b06cf4b1"
    },
    {
      "cell_type": "code",
      "metadata": {
        "colab": {
          "base_uri": "https://localhost:8080/",
          "height": 204
        },
        "id": "8d0689b9",
        "outputId": "ac32a69d-b096-4f28-9b79-276deca4df33"
      },
      "source": [
        "aptos = pd.read_csv('/content/gdrive/MyDrive/aptos_2019_train.csv')\n",
        "#aptos_test = pd.read_csv('Aptos2019-Blindness-Detection-Kaggle/test.csv')\n",
        "\n",
        "aptos.head()"
      ],
      "id": "8d0689b9",
      "execution_count": null,
      "outputs": [
        {
          "output_type": "execute_result",
          "data": {
            "text/html": [
              "<div>\n",
              "<style scoped>\n",
              "    .dataframe tbody tr th:only-of-type {\n",
              "        vertical-align: middle;\n",
              "    }\n",
              "\n",
              "    .dataframe tbody tr th {\n",
              "        vertical-align: top;\n",
              "    }\n",
              "\n",
              "    .dataframe thead th {\n",
              "        text-align: right;\n",
              "    }\n",
              "</style>\n",
              "<table border=\"1\" class=\"dataframe\">\n",
              "  <thead>\n",
              "    <tr style=\"text-align: right;\">\n",
              "      <th></th>\n",
              "      <th>id_code</th>\n",
              "      <th>diagnosis</th>\n",
              "    </tr>\n",
              "  </thead>\n",
              "  <tbody>\n",
              "    <tr>\n",
              "      <th>0</th>\n",
              "      <td>000c1434d8d7</td>\n",
              "      <td>2</td>\n",
              "    </tr>\n",
              "    <tr>\n",
              "      <th>1</th>\n",
              "      <td>001639a390f0</td>\n",
              "      <td>4</td>\n",
              "    </tr>\n",
              "    <tr>\n",
              "      <th>2</th>\n",
              "      <td>0024cdab0c1e</td>\n",
              "      <td>1</td>\n",
              "    </tr>\n",
              "    <tr>\n",
              "      <th>3</th>\n",
              "      <td>002c21358ce6</td>\n",
              "      <td>0</td>\n",
              "    </tr>\n",
              "    <tr>\n",
              "      <th>4</th>\n",
              "      <td>005b95c28852</td>\n",
              "      <td>0</td>\n",
              "    </tr>\n",
              "  </tbody>\n",
              "</table>\n",
              "</div>"
            ],
            "text/plain": [
              "        id_code  diagnosis\n",
              "0  000c1434d8d7          2\n",
              "1  001639a390f0          4\n",
              "2  0024cdab0c1e          1\n",
              "3  002c21358ce6          0\n",
              "4  005b95c28852          0"
            ]
          },
          "metadata": {},
          "execution_count": 6
        }
      ]
    },
    {
      "cell_type": "code",
      "metadata": {
        "colab": {
          "base_uri": "https://localhost:8080/"
        },
        "id": "e6378d3f",
        "outputId": "52ea51a8-cd41-4a43-fe0d-543f2109b517"
      },
      "source": [
        "aptos.diagnosis.value_counts()"
      ],
      "id": "e6378d3f",
      "execution_count": null,
      "outputs": [
        {
          "output_type": "execute_result",
          "data": {
            "text/plain": [
              "0    1805\n",
              "2     999\n",
              "1     370\n",
              "4     295\n",
              "3     193\n",
              "Name: diagnosis, dtype: int64"
            ]
          },
          "metadata": {},
          "execution_count": 7
        }
      ]
    },
    {
      "cell_type": "markdown",
      "metadata": {
        "id": "4795a3c7"
      },
      "source": [
        "### Having a look at examples of Diabetic Retinopathy (DR) and no Diabetic Retinopathy"
      ],
      "id": "4795a3c7"
    },
    {
      "cell_type": "code",
      "metadata": {
        "id": "a4ff2dcb"
      },
      "source": [
        "train_images = \"train_combined/\""
      ],
      "id": "a4ff2dcb",
      "execution_count": null,
      "outputs": []
    },
    {
      "cell_type": "code",
      "metadata": {
        "colab": {
          "base_uri": "https://localhost:8080/",
          "height": 511
        },
        "id": "0b712d7e",
        "outputId": "1a96a45c-80ed-496d-9510-fb02eb257a00"
      },
      "source": [
        "img = load_img(train_images +  aptos['id_code'].iloc[1] +\".png\")\n",
        "plt.imshow(img)\n",
        "plt.title('Ploriferative DR example')\n",
        "plt.axis(\"off\")\n",
        "plt.show()\n",
        "img = load_img(train_images +  aptos['id_code'].iloc[3] +\".png\")\n",
        "plt.imshow(img)\n",
        "plt.title('No DR example')\n",
        "plt.axis(\"off\")\n",
        "plt.show()"
      ],
      "id": "0b712d7e",
      "execution_count": null,
      "outputs": [
        {
          "output_type": "display_data",
          "data": {
            "image/png": "[encoded data removed]",
            "text/plain": [
              "<Figure size 432x288 with 1 Axes>"
            ]
          },
          "metadata": {
            "needs_background": "light"
          }
        },
        {
          "output_type": "display_data",
          "data": {
            "image/png": "[encoded data removed]",
            "text/plain": [
              "<Figure size 432x288 with 1 Axes>"
            ]
          },
          "metadata": {
            "needs_background": "light"
          }
        }
      ]
    },
    {
      "cell_type": "markdown",
      "metadata": {
        "id": "3c98f761"
      },
      "source": [
        "### We'll have to add .png to the end of all those values in the id_label column if we're going to be able to connect them with the image files, and we'll also have to turn the diagnosis labels from into to str"
      ],
      "id": "3c98f761"
    },
    {
      "cell_type": "code",
      "metadata": {
        "colab": {
          "base_uri": "https://localhost:8080/"
        },
        "id": "aaf0c1c6",
        "outputId": "94ed9c44-ffd6-4a27-e813-25a4ffd78bb0"
      },
      "source": [
        "aptos.id_code = aptos.id_code.apply(lambda x : \"{}{}\".format(x, \".png\"))\n",
        "\n",
        "aptos.diagnosis = aptos.diagnosis.astype(str)\n",
        "\n",
        "type(aptos.diagnosis.iloc[0])"
      ],
      "id": "aaf0c1c6",
      "execution_count": null,
      "outputs": [
        {
          "output_type": "execute_result",
          "data": {
            "text/plain": [
              "str"
            ]
          },
          "metadata": {},
          "execution_count": 10
        }
      ]
    },
    {
      "cell_type": "markdown",
      "metadata": {
        "id": "bceefeda"
      },
      "source": [
        "## Grabbing half the 0 labels as a step toward achieving class balance in the dataset"
      ],
      "id": "bceefeda"
    },
    {
      "cell_type": "code",
      "metadata": {
        "colab": {
          "base_uri": "https://localhost:8080/",
          "height": 204
        },
        "id": "4f500c45",
        "outputId": "e79239b3-83a4-490f-8cd2-b398f2ee1eb7"
      },
      "source": [
        "df_odd = aptos[aptos['diagnosis'] == '0']\n",
        "df_odd.head()"
      ],
      "id": "4f500c45",
      "execution_count": null,
      "outputs": [
        {
          "output_type": "execute_result",
          "data": {
            "text/html": [
              "<div>\n",
              "<style scoped>\n",
              "    .dataframe tbody tr th:only-of-type {\n",
              "        vertical-align: middle;\n",
              "    }\n",
              "\n",
              "    .dataframe tbody tr th {\n",
              "        vertical-align: top;\n",
              "    }\n",
              "\n",
              "    .dataframe thead th {\n",
              "        text-align: right;\n",
              "    }\n",
              "</style>\n",
              "<table border=\"1\" class=\"dataframe\">\n",
              "  <thead>\n",
              "    <tr style=\"text-align: right;\">\n",
              "      <th></th>\n",
              "      <th>id_code</th>\n",
              "      <th>diagnosis</th>\n",
              "    </tr>\n",
              "  </thead>\n",
              "  <tbody>\n",
              "    <tr>\n",
              "      <th>3</th>\n",
              "      <td>002c21358ce6.png</td>\n",
              "      <td>0</td>\n",
              "    </tr>\n",
              "    <tr>\n",
              "      <th>4</th>\n",
              "      <td>005b95c28852.png</td>\n",
              "      <td>0</td>\n",
              "    </tr>\n",
              "    <tr>\n",
              "      <th>6</th>\n",
              "      <td>0097f532ac9f.png</td>\n",
              "      <td>0</td>\n",
              "    </tr>\n",
              "    <tr>\n",
              "      <th>10</th>\n",
              "      <td>00cc2b75cddd.png</td>\n",
              "      <td>0</td>\n",
              "    </tr>\n",
              "    <tr>\n",
              "      <th>12</th>\n",
              "      <td>00f6c1be5a33.png</td>\n",
              "      <td>0</td>\n",
              "    </tr>\n",
              "  </tbody>\n",
              "</table>\n",
              "</div>"
            ],
            "text/plain": [
              "             id_code diagnosis\n",
              "3   002c21358ce6.png         0\n",
              "4   005b95c28852.png         0\n",
              "6   0097f532ac9f.png         0\n",
              "10  00cc2b75cddd.png         0\n",
              "12  00f6c1be5a33.png         0"
            ]
          },
          "metadata": {},
          "execution_count": 11
        }
      ]
    },
    {
      "cell_type": "markdown",
      "metadata": {
        "id": "7e9d6cf7"
      },
      "source": [
        "### Locating only odd rows with label 0"
      ],
      "id": "7e9d6cf7"
    },
    {
      "cell_type": "code",
      "metadata": {
        "colab": {
          "base_uri": "https://localhost:8080/"
        },
        "id": "55f2a5c6",
        "outputId": "fbd2d66a-9861-4b23-cb57-8e54b0adf7de"
      },
      "source": [
        "df_odd = df_odd.loc[df_odd.index % 2 == 1, :]\n",
        "print(len(df_odd))"
      ],
      "id": "55f2a5c6",
      "execution_count": null,
      "outputs": [
        {
          "output_type": "stream",
          "name": "stdout",
          "text": [
            "890\n"
          ]
        }
      ]
    },
    {
      "cell_type": "markdown",
      "metadata": {
        "id": "8ac87d3a"
      },
      "source": [
        "We have to drop all of the original rows containing label 0. Don't worry we'll replace them with half the original amount"
      ],
      "id": "8ac87d3a"
    },
    {
      "cell_type": "code",
      "metadata": {
        "colab": {
          "base_uri": "https://localhost:8080/"
        },
        "id": "012db056",
        "outputId": "fb5e0ccf-a4d3-4ef9-be2e-85820a97c81d"
      },
      "source": [
        "aptos = aptos[aptos['diagnosis'] != '0']\n",
        "print(aptos['diagnosis'].value_counts())"
      ],
      "id": "012db056",
      "execution_count": null,
      "outputs": [
        {
          "output_type": "stream",
          "name": "stdout",
          "text": [
            "2    999\n",
            "1    370\n",
            "4    295\n",
            "3    193\n",
            "Name: diagnosis, dtype: int64\n"
          ]
        }
      ]
    },
    {
      "cell_type": "markdown",
      "metadata": {
        "id": "83afdcff"
      },
      "source": [
        "Here, see I told you we'd put half of them back in "
      ],
      "id": "83afdcff"
    },
    {
      "cell_type": "code",
      "metadata": {
        "colab": {
          "base_uri": "https://localhost:8080/"
        },
        "id": "5be6f527",
        "outputId": "27e30395-2635-4b85-c8bb-c587e71782f1"
      },
      "source": [
        "aptos = pd.concat([aptos, df_odd], ignore_index=True)\n",
        "aptos['diagnosis'].value_counts()"
      ],
      "id": "5be6f527",
      "execution_count": null,
      "outputs": [
        {
          "output_type": "execute_result",
          "data": {
            "text/plain": [
              "2    999\n",
              "0    890\n",
              "1    370\n",
              "4    295\n",
              "3    193\n",
              "Name: diagnosis, dtype: int64"
            ]
          },
          "metadata": {},
          "execution_count": 14
        }
      ]
    },
    {
      "cell_type": "markdown",
      "metadata": {
        "id": "f1c03c16"
      },
      "source": [
        "## IDRiD Train DataSet"
      ],
      "id": "f1c03c16"
    },
    {
      "cell_type": "code",
      "metadata": {
        "colab": {
          "base_uri": "https://localhost:8080/",
          "height": 238
        },
        "id": "aba26ccb",
        "outputId": "e1170124-3230-4d88-cd5c-8da03ac79c38"
      },
      "source": [
        "idrid = pd.read_csv('/content/gdrive/MyDrive/IDRiD_train_labels.csv')\n",
        "\n",
        "idrid.head()"
      ],
      "id": "aba26ccb",
      "execution_count": null,
      "outputs": [
        {
          "output_type": "execute_result",
          "data": {
            "text/html": [
              "<div>\n",
              "<style scoped>\n",
              "    .dataframe tbody tr th:only-of-type {\n",
              "        vertical-align: middle;\n",
              "    }\n",
              "\n",
              "    .dataframe tbody tr th {\n",
              "        vertical-align: top;\n",
              "    }\n",
              "\n",
              "    .dataframe thead th {\n",
              "        text-align: right;\n",
              "    }\n",
              "</style>\n",
              "<table border=\"1\" class=\"dataframe\">\n",
              "  <thead>\n",
              "    <tr style=\"text-align: right;\">\n",
              "      <th></th>\n",
              "      <th>Image name</th>\n",
              "      <th>Retinopathy grade</th>\n",
              "      <th>Risk of macular edema</th>\n",
              "      <th>Unnamed: 3</th>\n",
              "      <th>Unnamed: 4</th>\n",
              "      <th>Unnamed: 5</th>\n",
              "      <th>Unnamed: 6</th>\n",
              "      <th>Unnamed: 7</th>\n",
              "      <th>Unnamed: 8</th>\n",
              "      <th>Unnamed: 9</th>\n",
              "      <th>Unnamed: 10</th>\n",
              "      <th>Unnamed: 11</th>\n",
              "    </tr>\n",
              "  </thead>\n",
              "  <tbody>\n",
              "    <tr>\n",
              "      <th>0</th>\n",
              "      <td>IDRiD_001</td>\n",
              "      <td>3</td>\n",
              "      <td>2</td>\n",
              "      <td>NaN</td>\n",
              "      <td>NaN</td>\n",
              "      <td>NaN</td>\n",
              "      <td>NaN</td>\n",
              "      <td>NaN</td>\n",
              "      <td>NaN</td>\n",
              "      <td>NaN</td>\n",
              "      <td>NaN</td>\n",
              "      <td>NaN</td>\n",
              "    </tr>\n",
              "    <tr>\n",
              "      <th>1</th>\n",
              "      <td>IDRiD_002</td>\n",
              "      <td>3</td>\n",
              "      <td>2</td>\n",
              "      <td>NaN</td>\n",
              "      <td>NaN</td>\n",
              "      <td>NaN</td>\n",
              "      <td>NaN</td>\n",
              "      <td>NaN</td>\n",
              "      <td>NaN</td>\n",
              "      <td>NaN</td>\n",
              "      <td>NaN</td>\n",
              "      <td>NaN</td>\n",
              "    </tr>\n",
              "    <tr>\n",
              "      <th>2</th>\n",
              "      <td>IDRiD_003</td>\n",
              "      <td>2</td>\n",
              "      <td>2</td>\n",
              "      <td>NaN</td>\n",
              "      <td>NaN</td>\n",
              "      <td>NaN</td>\n",
              "      <td>NaN</td>\n",
              "      <td>NaN</td>\n",
              "      <td>NaN</td>\n",
              "      <td>NaN</td>\n",
              "      <td>NaN</td>\n",
              "      <td>NaN</td>\n",
              "    </tr>\n",
              "    <tr>\n",
              "      <th>3</th>\n",
              "      <td>IDRiD_004</td>\n",
              "      <td>3</td>\n",
              "      <td>2</td>\n",
              "      <td>NaN</td>\n",
              "      <td>NaN</td>\n",
              "      <td>NaN</td>\n",
              "      <td>NaN</td>\n",
              "      <td>NaN</td>\n",
              "      <td>NaN</td>\n",
              "      <td>NaN</td>\n",
              "      <td>NaN</td>\n",
              "      <td>NaN</td>\n",
              "    </tr>\n",
              "    <tr>\n",
              "      <th>4</th>\n",
              "      <td>IDRiD_005</td>\n",
              "      <td>4</td>\n",
              "      <td>0</td>\n",
              "      <td>NaN</td>\n",
              "      <td>NaN</td>\n",
              "      <td>NaN</td>\n",
              "      <td>NaN</td>\n",
              "      <td>NaN</td>\n",
              "      <td>NaN</td>\n",
              "      <td>NaN</td>\n",
              "      <td>NaN</td>\n",
              "      <td>NaN</td>\n",
              "    </tr>\n",
              "  </tbody>\n",
              "</table>\n",
              "</div>"
            ],
            "text/plain": [
              "  Image name  Retinopathy grade  ...  Unnamed: 10  Unnamed: 11\n",
              "0  IDRiD_001                  3  ...          NaN          NaN\n",
              "1  IDRiD_002                  3  ...          NaN          NaN\n",
              "2  IDRiD_003                  2  ...          NaN          NaN\n",
              "3  IDRiD_004                  3  ...          NaN          NaN\n",
              "4  IDRiD_005                  4  ...          NaN          NaN\n",
              "\n",
              "[5 rows x 12 columns]"
            ]
          },
          "metadata": {},
          "execution_count": 15
        }
      ]
    },
    {
      "cell_type": "markdown",
      "metadata": {
        "id": "2f357a0c"
      },
      "source": [
        "Renaming our two columns of interest"
      ],
      "id": "2f357a0c"
    },
    {
      "cell_type": "code",
      "metadata": {
        "colab": {
          "base_uri": "https://localhost:8080/",
          "height": 221
        },
        "id": "38d8623d",
        "outputId": "ab94d91c-13e5-4311-94b1-7565c8b247b8"
      },
      "source": [
        "idrid = idrid.rename(columns={\"Image name\": \"id_code\", \"Retinopathy grade\": \"diagnosis\"})\n",
        "\n",
        "idrid.head()"
      ],
      "id": "38d8623d",
      "execution_count": null,
      "outputs": [
        {
          "output_type": "execute_result",
          "data": {
            "text/html": [
              "<div>\n",
              "<style scoped>\n",
              "    .dataframe tbody tr th:only-of-type {\n",
              "        vertical-align: middle;\n",
              "    }\n",
              "\n",
              "    .dataframe tbody tr th {\n",
              "        vertical-align: top;\n",
              "    }\n",
              "\n",
              "    .dataframe thead th {\n",
              "        text-align: right;\n",
              "    }\n",
              "</style>\n",
              "<table border=\"1\" class=\"dataframe\">\n",
              "  <thead>\n",
              "    <tr style=\"text-align: right;\">\n",
              "      <th></th>\n",
              "      <th>id_code</th>\n",
              "      <th>diagnosis</th>\n",
              "      <th>Risk of macular edema</th>\n",
              "      <th>Unnamed: 3</th>\n",
              "      <th>Unnamed: 4</th>\n",
              "      <th>Unnamed: 5</th>\n",
              "      <th>Unnamed: 6</th>\n",
              "      <th>Unnamed: 7</th>\n",
              "      <th>Unnamed: 8</th>\n",
              "      <th>Unnamed: 9</th>\n",
              "      <th>Unnamed: 10</th>\n",
              "      <th>Unnamed: 11</th>\n",
              "    </tr>\n",
              "  </thead>\n",
              "  <tbody>\n",
              "    <tr>\n",
              "      <th>0</th>\n",
              "      <td>IDRiD_001</td>\n",
              "      <td>3</td>\n",
              "      <td>2</td>\n",
              "      <td>NaN</td>\n",
              "      <td>NaN</td>\n",
              "      <td>NaN</td>\n",
              "      <td>NaN</td>\n",
              "      <td>NaN</td>\n",
              "      <td>NaN</td>\n",
              "      <td>NaN</td>\n",
              "      <td>NaN</td>\n",
              "      <td>NaN</td>\n",
              "    </tr>\n",
              "    <tr>\n",
              "      <th>1</th>\n",
              "      <td>IDRiD_002</td>\n",
              "      <td>3</td>\n",
              "      <td>2</td>\n",
              "      <td>NaN</td>\n",
              "      <td>NaN</td>\n",
              "      <td>NaN</td>\n",
              "      <td>NaN</td>\n",
              "      <td>NaN</td>\n",
              "      <td>NaN</td>\n",
              "      <td>NaN</td>\n",
              "      <td>NaN</td>\n",
              "      <td>NaN</td>\n",
              "    </tr>\n",
              "    <tr>\n",
              "      <th>2</th>\n",
              "      <td>IDRiD_003</td>\n",
              "      <td>2</td>\n",
              "      <td>2</td>\n",
              "      <td>NaN</td>\n",
              "      <td>NaN</td>\n",
              "      <td>NaN</td>\n",
              "      <td>NaN</td>\n",
              "      <td>NaN</td>\n",
              "      <td>NaN</td>\n",
              "      <td>NaN</td>\n",
              "      <td>NaN</td>\n",
              "      <td>NaN</td>\n",
              "    </tr>\n",
              "    <tr>\n",
              "      <th>3</th>\n",
              "      <td>IDRiD_004</td>\n",
              "      <td>3</td>\n",
              "      <td>2</td>\n",
              "      <td>NaN</td>\n",
              "      <td>NaN</td>\n",
              "      <td>NaN</td>\n",
              "      <td>NaN</td>\n",
              "      <td>NaN</td>\n",
              "      <td>NaN</td>\n",
              "      <td>NaN</td>\n",
              "      <td>NaN</td>\n",
              "      <td>NaN</td>\n",
              "    </tr>\n",
              "    <tr>\n",
              "      <th>4</th>\n",
              "      <td>IDRiD_005</td>\n",
              "      <td>4</td>\n",
              "      <td>0</td>\n",
              "      <td>NaN</td>\n",
              "      <td>NaN</td>\n",
              "      <td>NaN</td>\n",
              "      <td>NaN</td>\n",
              "      <td>NaN</td>\n",
              "      <td>NaN</td>\n",
              "      <td>NaN</td>\n",
              "      <td>NaN</td>\n",
              "      <td>NaN</td>\n",
              "    </tr>\n",
              "  </tbody>\n",
              "</table>\n",
              "</div>"
            ],
            "text/plain": [
              "     id_code  diagnosis  ...  Unnamed: 10  Unnamed: 11\n",
              "0  IDRiD_001          3  ...          NaN          NaN\n",
              "1  IDRiD_002          3  ...          NaN          NaN\n",
              "2  IDRiD_003          2  ...          NaN          NaN\n",
              "3  IDRiD_004          3  ...          NaN          NaN\n",
              "4  IDRiD_005          4  ...          NaN          NaN\n",
              "\n",
              "[5 rows x 12 columns]"
            ]
          },
          "metadata": {},
          "execution_count": 16
        }
      ]
    },
    {
      "cell_type": "markdown",
      "metadata": {
        "id": "6ba85c2b"
      },
      "source": [
        "### Adding .png to the Image names "
      ],
      "id": "6ba85c2b"
    },
    {
      "cell_type": "code",
      "metadata": {
        "colab": {
          "base_uri": "https://localhost:8080/",
          "height": 238
        },
        "id": "94c563e9",
        "outputId": "ff8b2d9d-2404-4ef3-9453-aa354e7fb5d2"
      },
      "source": [
        "idrid['id_code'] = idrid['id_code'].apply(lambda x : \"{}{}\".format(x, \".png\"))\n",
        "idrid.head()"
      ],
      "id": "94c563e9",
      "execution_count": null,
      "outputs": [
        {
          "output_type": "execute_result",
          "data": {
            "text/html": [
              "<div>\n",
              "<style scoped>\n",
              "    .dataframe tbody tr th:only-of-type {\n",
              "        vertical-align: middle;\n",
              "    }\n",
              "\n",
              "    .dataframe tbody tr th {\n",
              "        vertical-align: top;\n",
              "    }\n",
              "\n",
              "    .dataframe thead th {\n",
              "        text-align: right;\n",
              "    }\n",
              "</style>\n",
              "<table border=\"1\" class=\"dataframe\">\n",
              "  <thead>\n",
              "    <tr style=\"text-align: right;\">\n",
              "      <th></th>\n",
              "      <th>id_code</th>\n",
              "      <th>diagnosis</th>\n",
              "      <th>Risk of macular edema</th>\n",
              "      <th>Unnamed: 3</th>\n",
              "      <th>Unnamed: 4</th>\n",
              "      <th>Unnamed: 5</th>\n",
              "      <th>Unnamed: 6</th>\n",
              "      <th>Unnamed: 7</th>\n",
              "      <th>Unnamed: 8</th>\n",
              "      <th>Unnamed: 9</th>\n",
              "      <th>Unnamed: 10</th>\n",
              "      <th>Unnamed: 11</th>\n",
              "    </tr>\n",
              "  </thead>\n",
              "  <tbody>\n",
              "    <tr>\n",
              "      <th>0</th>\n",
              "      <td>IDRiD_001.png</td>\n",
              "      <td>3</td>\n",
              "      <td>2</td>\n",
              "      <td>NaN</td>\n",
              "      <td>NaN</td>\n",
              "      <td>NaN</td>\n",
              "      <td>NaN</td>\n",
              "      <td>NaN</td>\n",
              "      <td>NaN</td>\n",
              "      <td>NaN</td>\n",
              "      <td>NaN</td>\n",
              "      <td>NaN</td>\n",
              "    </tr>\n",
              "    <tr>\n",
              "      <th>1</th>\n",
              "      <td>IDRiD_002.png</td>\n",
              "      <td>3</td>\n",
              "      <td>2</td>\n",
              "      <td>NaN</td>\n",
              "      <td>NaN</td>\n",
              "      <td>NaN</td>\n",
              "      <td>NaN</td>\n",
              "      <td>NaN</td>\n",
              "      <td>NaN</td>\n",
              "      <td>NaN</td>\n",
              "      <td>NaN</td>\n",
              "      <td>NaN</td>\n",
              "    </tr>\n",
              "    <tr>\n",
              "      <th>2</th>\n",
              "      <td>IDRiD_003.png</td>\n",
              "      <td>2</td>\n",
              "      <td>2</td>\n",
              "      <td>NaN</td>\n",
              "      <td>NaN</td>\n",
              "      <td>NaN</td>\n",
              "      <td>NaN</td>\n",
              "      <td>NaN</td>\n",
              "      <td>NaN</td>\n",
              "      <td>NaN</td>\n",
              "      <td>NaN</td>\n",
              "      <td>NaN</td>\n",
              "    </tr>\n",
              "    <tr>\n",
              "      <th>3</th>\n",
              "      <td>IDRiD_004.png</td>\n",
              "      <td>3</td>\n",
              "      <td>2</td>\n",
              "      <td>NaN</td>\n",
              "      <td>NaN</td>\n",
              "      <td>NaN</td>\n",
              "      <td>NaN</td>\n",
              "      <td>NaN</td>\n",
              "      <td>NaN</td>\n",
              "      <td>NaN</td>\n",
              "      <td>NaN</td>\n",
              "      <td>NaN</td>\n",
              "    </tr>\n",
              "    <tr>\n",
              "      <th>4</th>\n",
              "      <td>IDRiD_005.png</td>\n",
              "      <td>4</td>\n",
              "      <td>0</td>\n",
              "      <td>NaN</td>\n",
              "      <td>NaN</td>\n",
              "      <td>NaN</td>\n",
              "      <td>NaN</td>\n",
              "      <td>NaN</td>\n",
              "      <td>NaN</td>\n",
              "      <td>NaN</td>\n",
              "      <td>NaN</td>\n",
              "      <td>NaN</td>\n",
              "    </tr>\n",
              "  </tbody>\n",
              "</table>\n",
              "</div>"
            ],
            "text/plain": [
              "         id_code  diagnosis  ...  Unnamed: 10  Unnamed: 11\n",
              "0  IDRiD_001.png          3  ...          NaN          NaN\n",
              "1  IDRiD_002.png          3  ...          NaN          NaN\n",
              "2  IDRiD_003.png          2  ...          NaN          NaN\n",
              "3  IDRiD_004.png          3  ...          NaN          NaN\n",
              "4  IDRiD_005.png          4  ...          NaN          NaN\n",
              "\n",
              "[5 rows x 12 columns]"
            ]
          },
          "metadata": {},
          "execution_count": 17
        }
      ]
    },
    {
      "cell_type": "markdown",
      "metadata": {
        "id": "f9798f58"
      },
      "source": [
        "### Converting the Retinopathy diagnosis to str"
      ],
      "id": "f9798f58"
    },
    {
      "cell_type": "code",
      "metadata": {
        "id": "2f5c7d4c"
      },
      "source": [
        "idrid['diagnosis'] = idrid['diagnosis'].astype(str)"
      ],
      "id": "2f5c7d4c",
      "execution_count": null,
      "outputs": []
    },
    {
      "cell_type": "markdown",
      "metadata": {
        "id": "729e0c99"
      },
      "source": [
        "### We're not interested in anything but the image id number (Image name) and Retinopathy grade columns. So let's drop all other columns"
      ],
      "id": "729e0c99"
    },
    {
      "cell_type": "code",
      "metadata": {
        "colab": {
          "base_uri": "https://localhost:8080/",
          "height": 204
        },
        "id": "f791ea8d",
        "outputId": "719cbf7f-6c58-48c2-dafc-0c3df5c432e2"
      },
      "source": [
        "idrid = idrid[['id_code', 'diagnosis']]\n",
        "\n",
        "idrid.head()"
      ],
      "id": "f791ea8d",
      "execution_count": null,
      "outputs": [
        {
          "output_type": "execute_result",
          "data": {
            "text/html": [
              "<div>\n",
              "<style scoped>\n",
              "    .dataframe tbody tr th:only-of-type {\n",
              "        vertical-align: middle;\n",
              "    }\n",
              "\n",
              "    .dataframe tbody tr th {\n",
              "        vertical-align: top;\n",
              "    }\n",
              "\n",
              "    .dataframe thead th {\n",
              "        text-align: right;\n",
              "    }\n",
              "</style>\n",
              "<table border=\"1\" class=\"dataframe\">\n",
              "  <thead>\n",
              "    <tr style=\"text-align: right;\">\n",
              "      <th></th>\n",
              "      <th>id_code</th>\n",
              "      <th>diagnosis</th>\n",
              "    </tr>\n",
              "  </thead>\n",
              "  <tbody>\n",
              "    <tr>\n",
              "      <th>0</th>\n",
              "      <td>IDRiD_001.png</td>\n",
              "      <td>3</td>\n",
              "    </tr>\n",
              "    <tr>\n",
              "      <th>1</th>\n",
              "      <td>IDRiD_002.png</td>\n",
              "      <td>3</td>\n",
              "    </tr>\n",
              "    <tr>\n",
              "      <th>2</th>\n",
              "      <td>IDRiD_003.png</td>\n",
              "      <td>2</td>\n",
              "    </tr>\n",
              "    <tr>\n",
              "      <th>3</th>\n",
              "      <td>IDRiD_004.png</td>\n",
              "      <td>3</td>\n",
              "    </tr>\n",
              "    <tr>\n",
              "      <th>4</th>\n",
              "      <td>IDRiD_005.png</td>\n",
              "      <td>4</td>\n",
              "    </tr>\n",
              "  </tbody>\n",
              "</table>\n",
              "</div>"
            ],
            "text/plain": [
              "         id_code diagnosis\n",
              "0  IDRiD_001.png         3\n",
              "1  IDRiD_002.png         3\n",
              "2  IDRiD_003.png         2\n",
              "3  IDRiD_004.png         3\n",
              "4  IDRiD_005.png         4"
            ]
          },
          "metadata": {},
          "execution_count": 19
        }
      ]
    },
    {
      "cell_type": "markdown",
      "metadata": {
        "id": "bac89f87"
      },
      "source": [
        "That looks like our aptos df from above. That's good. Now let's see how many of each label we're working with"
      ],
      "id": "bac89f87"
    },
    {
      "cell_type": "code",
      "metadata": {
        "colab": {
          "base_uri": "https://localhost:8080/"
        },
        "id": "b0c99b75",
        "outputId": "9c5fc935-34d5-4804-90cb-40d107b1c9fd"
      },
      "source": [
        "idrid.diagnosis.value_counts()"
      ],
      "id": "b0c99b75",
      "execution_count": null,
      "outputs": [
        {
          "output_type": "execute_result",
          "data": {
            "text/plain": [
              "2    136\n",
              "0    134\n",
              "3     74\n",
              "4     49\n",
              "1     20\n",
              "Name: diagnosis, dtype: int64"
            ]
          },
          "metadata": {},
          "execution_count": 20
        }
      ]
    },
    {
      "cell_type": "markdown",
      "metadata": {
        "id": "14d338a1"
      },
      "source": [
        "### All 0 labels"
      ],
      "id": "14d338a1"
    },
    {
      "cell_type": "code",
      "metadata": {
        "colab": {
          "base_uri": "https://localhost:8080/",
          "height": 204
        },
        "id": "5935a2fb",
        "outputId": "08735ff5-7c2e-4e4d-ce1a-bc8094be6e4a"
      },
      "source": [
        "idrid.loc[idrid['diagnosis']== '0']\n",
        "\n",
        "idrid.head()"
      ],
      "id": "5935a2fb",
      "execution_count": null,
      "outputs": [
        {
          "output_type": "execute_result",
          "data": {
            "text/html": [
              "<div>\n",
              "<style scoped>\n",
              "    .dataframe tbody tr th:only-of-type {\n",
              "        vertical-align: middle;\n",
              "    }\n",
              "\n",
              "    .dataframe tbody tr th {\n",
              "        vertical-align: top;\n",
              "    }\n",
              "\n",
              "    .dataframe thead th {\n",
              "        text-align: right;\n",
              "    }\n",
              "</style>\n",
              "<table border=\"1\" class=\"dataframe\">\n",
              "  <thead>\n",
              "    <tr style=\"text-align: right;\">\n",
              "      <th></th>\n",
              "      <th>id_code</th>\n",
              "      <th>diagnosis</th>\n",
              "    </tr>\n",
              "  </thead>\n",
              "  <tbody>\n",
              "    <tr>\n",
              "      <th>0</th>\n",
              "      <td>IDRiD_001.png</td>\n",
              "      <td>3</td>\n",
              "    </tr>\n",
              "    <tr>\n",
              "      <th>1</th>\n",
              "      <td>IDRiD_002.png</td>\n",
              "      <td>3</td>\n",
              "    </tr>\n",
              "    <tr>\n",
              "      <th>2</th>\n",
              "      <td>IDRiD_003.png</td>\n",
              "      <td>2</td>\n",
              "    </tr>\n",
              "    <tr>\n",
              "      <th>3</th>\n",
              "      <td>IDRiD_004.png</td>\n",
              "      <td>3</td>\n",
              "    </tr>\n",
              "    <tr>\n",
              "      <th>4</th>\n",
              "      <td>IDRiD_005.png</td>\n",
              "      <td>4</td>\n",
              "    </tr>\n",
              "  </tbody>\n",
              "</table>\n",
              "</div>"
            ],
            "text/plain": [
              "         id_code diagnosis\n",
              "0  IDRiD_001.png         3\n",
              "1  IDRiD_002.png         3\n",
              "2  IDRiD_003.png         2\n",
              "3  IDRiD_004.png         3\n",
              "4  IDRiD_005.png         4"
            ]
          },
          "metadata": {},
          "execution_count": 21
        }
      ]
    },
    {
      "cell_type": "markdown",
      "metadata": {
        "id": "3bd23cb5"
      },
      "source": [
        "Quick look at aptos df too"
      ],
      "id": "3bd23cb5"
    },
    {
      "cell_type": "code",
      "metadata": {
        "colab": {
          "base_uri": "https://localhost:8080/",
          "height": 204
        },
        "id": "8cf1d94d",
        "outputId": "8c65ce06-ff24-401a-949e-29db63191976"
      },
      "source": [
        "aptos.head()"
      ],
      "id": "8cf1d94d",
      "execution_count": null,
      "outputs": [
        {
          "output_type": "execute_result",
          "data": {
            "text/html": [
              "<div>\n",
              "<style scoped>\n",
              "    .dataframe tbody tr th:only-of-type {\n",
              "        vertical-align: middle;\n",
              "    }\n",
              "\n",
              "    .dataframe tbody tr th {\n",
              "        vertical-align: top;\n",
              "    }\n",
              "\n",
              "    .dataframe thead th {\n",
              "        text-align: right;\n",
              "    }\n",
              "</style>\n",
              "<table border=\"1\" class=\"dataframe\">\n",
              "  <thead>\n",
              "    <tr style=\"text-align: right;\">\n",
              "      <th></th>\n",
              "      <th>id_code</th>\n",
              "      <th>diagnosis</th>\n",
              "    </tr>\n",
              "  </thead>\n",
              "  <tbody>\n",
              "    <tr>\n",
              "      <th>0</th>\n",
              "      <td>000c1434d8d7.png</td>\n",
              "      <td>2</td>\n",
              "    </tr>\n",
              "    <tr>\n",
              "      <th>1</th>\n",
              "      <td>001639a390f0.png</td>\n",
              "      <td>4</td>\n",
              "    </tr>\n",
              "    <tr>\n",
              "      <th>2</th>\n",
              "      <td>0024cdab0c1e.png</td>\n",
              "      <td>1</td>\n",
              "    </tr>\n",
              "    <tr>\n",
              "      <th>3</th>\n",
              "      <td>0083ee8054ee.png</td>\n",
              "      <td>4</td>\n",
              "    </tr>\n",
              "    <tr>\n",
              "      <th>4</th>\n",
              "      <td>00a8624548a9.png</td>\n",
              "      <td>2</td>\n",
              "    </tr>\n",
              "  </tbody>\n",
              "</table>\n",
              "</div>"
            ],
            "text/plain": [
              "            id_code diagnosis\n",
              "0  000c1434d8d7.png         2\n",
              "1  001639a390f0.png         4\n",
              "2  0024cdab0c1e.png         1\n",
              "3  0083ee8054ee.png         4\n",
              "4  00a8624548a9.png         2"
            ]
          },
          "metadata": {},
          "execution_count": 22
        }
      ]
    },
    {
      "cell_type": "markdown",
      "metadata": {
        "id": "8898e1d7"
      },
      "source": [
        "### There. Now we can concatenate the two DataFrames and make one dataframe"
      ],
      "id": "8898e1d7"
    },
    {
      "cell_type": "code",
      "metadata": {
        "colab": {
          "base_uri": "https://localhost:8080/",
          "height": 359
        },
        "id": "b8dd27a6",
        "outputId": "51103753-d829-40dd-927f-515ec40b10a5"
      },
      "source": [
        "df = pd.concat([aptos, idrid], ignore_index = True)\n",
        "\n",
        "df.tail(10)\n",
        "# looks like the idrid dataframe is at the bottom like we wanted"
      ],
      "id": "b8dd27a6",
      "execution_count": null,
      "outputs": [
        {
          "output_type": "execute_result",
          "data": {
            "text/html": [
              "<div>\n",
              "<style scoped>\n",
              "    .dataframe tbody tr th:only-of-type {\n",
              "        vertical-align: middle;\n",
              "    }\n",
              "\n",
              "    .dataframe tbody tr th {\n",
              "        vertical-align: top;\n",
              "    }\n",
              "\n",
              "    .dataframe thead th {\n",
              "        text-align: right;\n",
              "    }\n",
              "</style>\n",
              "<table border=\"1\" class=\"dataframe\">\n",
              "  <thead>\n",
              "    <tr style=\"text-align: right;\">\n",
              "      <th></th>\n",
              "      <th>id_code</th>\n",
              "      <th>diagnosis</th>\n",
              "    </tr>\n",
              "  </thead>\n",
              "  <tbody>\n",
              "    <tr>\n",
              "      <th>3150</th>\n",
              "      <td>IDRiD_404.png</td>\n",
              "      <td>2</td>\n",
              "    </tr>\n",
              "    <tr>\n",
              "      <th>3151</th>\n",
              "      <td>IDRiD_405.png</td>\n",
              "      <td>2</td>\n",
              "    </tr>\n",
              "    <tr>\n",
              "      <th>3152</th>\n",
              "      <td>IDRiD_406.png</td>\n",
              "      <td>0</td>\n",
              "    </tr>\n",
              "    <tr>\n",
              "      <th>3153</th>\n",
              "      <td>IDRiD_407.png</td>\n",
              "      <td>2</td>\n",
              "    </tr>\n",
              "    <tr>\n",
              "      <th>3154</th>\n",
              "      <td>IDRiD_408.png</td>\n",
              "      <td>1</td>\n",
              "    </tr>\n",
              "    <tr>\n",
              "      <th>3155</th>\n",
              "      <td>IDRiD_409.png</td>\n",
              "      <td>2</td>\n",
              "    </tr>\n",
              "    <tr>\n",
              "      <th>3156</th>\n",
              "      <td>IDRiD_410.png</td>\n",
              "      <td>2</td>\n",
              "    </tr>\n",
              "    <tr>\n",
              "      <th>3157</th>\n",
              "      <td>IDRiD_411.png</td>\n",
              "      <td>2</td>\n",
              "    </tr>\n",
              "    <tr>\n",
              "      <th>3158</th>\n",
              "      <td>IDRiD_412.png</td>\n",
              "      <td>2</td>\n",
              "    </tr>\n",
              "    <tr>\n",
              "      <th>3159</th>\n",
              "      <td>IDRiD_413.png</td>\n",
              "      <td>2</td>\n",
              "    </tr>\n",
              "  </tbody>\n",
              "</table>\n",
              "</div>"
            ],
            "text/plain": [
              "            id_code diagnosis\n",
              "3150  IDRiD_404.png         2\n",
              "3151  IDRiD_405.png         2\n",
              "3152  IDRiD_406.png         0\n",
              "3153  IDRiD_407.png         2\n",
              "3154  IDRiD_408.png         1\n",
              "3155  IDRiD_409.png         2\n",
              "3156  IDRiD_410.png         2\n",
              "3157  IDRiD_411.png         2\n",
              "3158  IDRiD_412.png         2\n",
              "3159  IDRiD_413.png         2"
            ]
          },
          "metadata": {},
          "execution_count": 23
        }
      ]
    },
    {
      "cell_type": "code",
      "metadata": {
        "colab": {
          "base_uri": "https://localhost:8080/",
          "height": 359
        },
        "id": "66728ce5",
        "outputId": "96ccd4b1-8d57-4d30-d201-7147a9bce23e"
      },
      "source": [
        "# let's check that aptos is at the top\n",
        "df.head(10)\n",
        "# it is"
      ],
      "id": "66728ce5",
      "execution_count": null,
      "outputs": [
        {
          "output_type": "execute_result",
          "data": {
            "text/html": [
              "<div>\n",
              "<style scoped>\n",
              "    .dataframe tbody tr th:only-of-type {\n",
              "        vertical-align: middle;\n",
              "    }\n",
              "\n",
              "    .dataframe tbody tr th {\n",
              "        vertical-align: top;\n",
              "    }\n",
              "\n",
              "    .dataframe thead th {\n",
              "        text-align: right;\n",
              "    }\n",
              "</style>\n",
              "<table border=\"1\" class=\"dataframe\">\n",
              "  <thead>\n",
              "    <tr style=\"text-align: right;\">\n",
              "      <th></th>\n",
              "      <th>id_code</th>\n",
              "      <th>diagnosis</th>\n",
              "    </tr>\n",
              "  </thead>\n",
              "  <tbody>\n",
              "    <tr>\n",
              "      <th>0</th>\n",
              "      <td>000c1434d8d7.png</td>\n",
              "      <td>2</td>\n",
              "    </tr>\n",
              "    <tr>\n",
              "      <th>1</th>\n",
              "      <td>001639a390f0.png</td>\n",
              "      <td>4</td>\n",
              "    </tr>\n",
              "    <tr>\n",
              "      <th>2</th>\n",
              "      <td>0024cdab0c1e.png</td>\n",
              "      <td>1</td>\n",
              "    </tr>\n",
              "    <tr>\n",
              "      <th>3</th>\n",
              "      <td>0083ee8054ee.png</td>\n",
              "      <td>4</td>\n",
              "    </tr>\n",
              "    <tr>\n",
              "      <th>4</th>\n",
              "      <td>00a8624548a9.png</td>\n",
              "      <td>2</td>\n",
              "    </tr>\n",
              "    <tr>\n",
              "      <th>5</th>\n",
              "      <td>00b74780d31d.png</td>\n",
              "      <td>2</td>\n",
              "    </tr>\n",
              "    <tr>\n",
              "      <th>6</th>\n",
              "      <td>00cb6555d108.png</td>\n",
              "      <td>1</td>\n",
              "    </tr>\n",
              "    <tr>\n",
              "      <th>7</th>\n",
              "      <td>00e4ddff966a.png</td>\n",
              "      <td>2</td>\n",
              "    </tr>\n",
              "    <tr>\n",
              "      <th>8</th>\n",
              "      <td>0104b032c141.png</td>\n",
              "      <td>3</td>\n",
              "    </tr>\n",
              "    <tr>\n",
              "      <th>9</th>\n",
              "      <td>0124dffecf29.png</td>\n",
              "      <td>1</td>\n",
              "    </tr>\n",
              "  </tbody>\n",
              "</table>\n",
              "</div>"
            ],
            "text/plain": [
              "            id_code diagnosis\n",
              "0  000c1434d8d7.png         2\n",
              "1  001639a390f0.png         4\n",
              "2  0024cdab0c1e.png         1\n",
              "3  0083ee8054ee.png         4\n",
              "4  00a8624548a9.png         2\n",
              "5  00b74780d31d.png         2\n",
              "6  00cb6555d108.png         1\n",
              "7  00e4ddff966a.png         2\n",
              "8  0104b032c141.png         3\n",
              "9  0124dffecf29.png         1"
            ]
          },
          "metadata": {},
          "execution_count": 24
        }
      ]
    },
    {
      "cell_type": "markdown",
      "metadata": {
        "id": "6e85f9cc"
      },
      "source": [
        "How's the balance between classes looking"
      ],
      "id": "6e85f9cc"
    },
    {
      "cell_type": "code",
      "metadata": {
        "colab": {
          "base_uri": "https://localhost:8080/"
        },
        "id": "ee63aeac",
        "outputId": "c50d67f3-79a4-4cbc-fd77-6c2b12ae6239"
      },
      "source": [
        "df['diagnosis'].value_counts()"
      ],
      "id": "ee63aeac",
      "execution_count": null,
      "outputs": [
        {
          "output_type": "execute_result",
          "data": {
            "text/plain": [
              "2    1135\n",
              "0    1024\n",
              "1     390\n",
              "4     344\n",
              "3     267\n",
              "Name: diagnosis, dtype: int64"
            ]
          },
          "metadata": {},
          "execution_count": 25
        }
      ]
    },
    {
      "cell_type": "markdown",
      "metadata": {
        "id": "9d391be4"
      },
      "source": [
        "Not great, but be patient, I've already gone ahead and done some work (hint: they even out)"
      ],
      "id": "9d391be4"
    },
    {
      "cell_type": "markdown",
      "metadata": {
        "id": "65216889"
      },
      "source": [
        "# Bring in the Bohemoth 2015 Aptos Training Set"
      ],
      "id": "65216889"
    },
    {
      "cell_type": "code",
      "metadata": {
        "colab": {
          "base_uri": "https://localhost:8080/",
          "height": 204
        },
        "id": "d2c83527",
        "outputId": "acac8fdd-8b5d-49fd-f11a-e82e51f3ca8f"
      },
      "source": [
        "aptos15 = pd.read_csv('/content/gdrive/MyDrive/aptos-2015-training.csv')\n",
        "aptos15.head()"
      ],
      "id": "d2c83527",
      "execution_count": null,
      "outputs": [
        {
          "output_type": "execute_result",
          "data": {
            "text/html": [
              "<div>\n",
              "<style scoped>\n",
              "    .dataframe tbody tr th:only-of-type {\n",
              "        vertical-align: middle;\n",
              "    }\n",
              "\n",
              "    .dataframe tbody tr th {\n",
              "        vertical-align: top;\n",
              "    }\n",
              "\n",
              "    .dataframe thead th {\n",
              "        text-align: right;\n",
              "    }\n",
              "</style>\n",
              "<table border=\"1\" class=\"dataframe\">\n",
              "  <thead>\n",
              "    <tr style=\"text-align: right;\">\n",
              "      <th></th>\n",
              "      <th>image</th>\n",
              "      <th>level</th>\n",
              "    </tr>\n",
              "  </thead>\n",
              "  <tbody>\n",
              "    <tr>\n",
              "      <th>0</th>\n",
              "      <td>10_left</td>\n",
              "      <td>0</td>\n",
              "    </tr>\n",
              "    <tr>\n",
              "      <th>1</th>\n",
              "      <td>10_right</td>\n",
              "      <td>0</td>\n",
              "    </tr>\n",
              "    <tr>\n",
              "      <th>2</th>\n",
              "      <td>13_left</td>\n",
              "      <td>0</td>\n",
              "    </tr>\n",
              "    <tr>\n",
              "      <th>3</th>\n",
              "      <td>13_right</td>\n",
              "      <td>0</td>\n",
              "    </tr>\n",
              "    <tr>\n",
              "      <th>4</th>\n",
              "      <td>15_left</td>\n",
              "      <td>1</td>\n",
              "    </tr>\n",
              "  </tbody>\n",
              "</table>\n",
              "</div>"
            ],
            "text/plain": [
              "      image  level\n",
              "0   10_left      0\n",
              "1  10_right      0\n",
              "2   13_left      0\n",
              "3  13_right      0\n",
              "4   15_left      1"
            ]
          },
          "metadata": {},
          "execution_count": 26
        }
      ]
    },
    {
      "cell_type": "code",
      "metadata": {
        "colab": {
          "base_uri": "https://localhost:8080/"
        },
        "id": "435a8a2f",
        "outputId": "922e2529-d1d0-4c38-a39d-d3a67f573620"
      },
      "source": [
        "len(aptos15)"
      ],
      "id": "435a8a2f",
      "execution_count": null,
      "outputs": [
        {
          "output_type": "execute_result",
          "data": {
            "text/plain": [
              "35126"
            ]
          },
          "metadata": {},
          "execution_count": 27
        }
      ]
    },
    {
      "cell_type": "markdown",
      "metadata": {
        "id": "3f81c835"
      },
      "source": [
        "### Let's rename the columns, for soliderity's sake"
      ],
      "id": "3f81c835"
    },
    {
      "cell_type": "code",
      "metadata": {
        "id": "26bad8e7"
      },
      "source": [
        "aptos15.rename(columns={\"image\": \"id_code\", \"level\": \"diagnosis\"}, inplace=True)"
      ],
      "id": "26bad8e7",
      "execution_count": null,
      "outputs": []
    },
    {
      "cell_type": "markdown",
      "metadata": {
        "id": "bb539ad9"
      },
      "source": [
        "### adding jpg to the end of aptos15 id_code records and converting diagnosis column to str"
      ],
      "id": "bb539ad9"
    },
    {
      "cell_type": "code",
      "metadata": {
        "id": "48c05a9d"
      },
      "source": [
        "aptos15.id_code = aptos15.id_code.apply(lambda x : \"{}{}\".format(x, \".jpg\"))\n",
        "\n",
        "aptos15.diagnosis = aptos15.diagnosis.astype(str)"
      ],
      "id": "48c05a9d",
      "execution_count": null,
      "outputs": []
    },
    {
      "cell_type": "code",
      "metadata": {
        "colab": {
          "base_uri": "https://localhost:8080/",
          "height": 204
        },
        "id": "3622427f",
        "outputId": "dbba3db4-e74e-47b2-9d2a-ec357fa0dfe1"
      },
      "source": [
        "aptos15.head()"
      ],
      "id": "3622427f",
      "execution_count": null,
      "outputs": [
        {
          "output_type": "execute_result",
          "data": {
            "text/html": [
              "<div>\n",
              "<style scoped>\n",
              "    .dataframe tbody tr th:only-of-type {\n",
              "        vertical-align: middle;\n",
              "    }\n",
              "\n",
              "    .dataframe tbody tr th {\n",
              "        vertical-align: top;\n",
              "    }\n",
              "\n",
              "    .dataframe thead th {\n",
              "        text-align: right;\n",
              "    }\n",
              "</style>\n",
              "<table border=\"1\" class=\"dataframe\">\n",
              "  <thead>\n",
              "    <tr style=\"text-align: right;\">\n",
              "      <th></th>\n",
              "      <th>id_code</th>\n",
              "      <th>diagnosis</th>\n",
              "    </tr>\n",
              "  </thead>\n",
              "  <tbody>\n",
              "    <tr>\n",
              "      <th>0</th>\n",
              "      <td>10_left.jpg</td>\n",
              "      <td>0</td>\n",
              "    </tr>\n",
              "    <tr>\n",
              "      <th>1</th>\n",
              "      <td>10_right.jpg</td>\n",
              "      <td>0</td>\n",
              "    </tr>\n",
              "    <tr>\n",
              "      <th>2</th>\n",
              "      <td>13_left.jpg</td>\n",
              "      <td>0</td>\n",
              "    </tr>\n",
              "    <tr>\n",
              "      <th>3</th>\n",
              "      <td>13_right.jpg</td>\n",
              "      <td>0</td>\n",
              "    </tr>\n",
              "    <tr>\n",
              "      <th>4</th>\n",
              "      <td>15_left.jpg</td>\n",
              "      <td>1</td>\n",
              "    </tr>\n",
              "  </tbody>\n",
              "</table>\n",
              "</div>"
            ],
            "text/plain": [
              "        id_code diagnosis\n",
              "0   10_left.jpg         0\n",
              "1  10_right.jpg         0\n",
              "2   13_left.jpg         0\n",
              "3  13_right.jpg         0\n",
              "4   15_left.jpg         1"
            ]
          },
          "metadata": {},
          "execution_count": 30
        }
      ]
    },
    {
      "cell_type": "code",
      "metadata": {
        "colab": {
          "base_uri": "https://localhost:8080/"
        },
        "id": "5e74369a",
        "outputId": "9efe0497-7105-472a-ecf8-def24e943fa5"
      },
      "source": [
        "aptos15['diagnosis'].value_counts()"
      ],
      "id": "5e74369a",
      "execution_count": null,
      "outputs": [
        {
          "output_type": "execute_result",
          "data": {
            "text/plain": [
              "0    25810\n",
              "2     5292\n",
              "1     2443\n",
              "3      873\n",
              "4      708\n",
              "Name: diagnosis, dtype: int64"
            ]
          },
          "metadata": {},
          "execution_count": 31
        }
      ]
    },
    {
      "cell_type": "markdown",
      "metadata": {
        "id": "c90cc8c9"
      },
      "source": [
        "### We're going to drop the 0 labels all together for now "
      ],
      "id": "c90cc8c9"
    },
    {
      "cell_type": "code",
      "metadata": {
        "colab": {
          "base_uri": "https://localhost:8080/",
          "height": 419
        },
        "id": "fda709e2",
        "outputId": "1497442f-d6c9-4a09-e3f5-f56dc3023e89"
      },
      "source": [
        "aptos15 = aptos15[aptos15['diagnosis'] !='0']\n",
        "\n",
        "aptos15"
      ],
      "id": "fda709e2",
      "execution_count": null,
      "outputs": [
        {
          "output_type": "execute_result",
          "data": {
            "text/html": [
              "<div>\n",
              "<style scoped>\n",
              "    .dataframe tbody tr th:only-of-type {\n",
              "        vertical-align: middle;\n",
              "    }\n",
              "\n",
              "    .dataframe tbody tr th {\n",
              "        vertical-align: top;\n",
              "    }\n",
              "\n",
              "    .dataframe thead th {\n",
              "        text-align: right;\n",
              "    }\n",
              "</style>\n",
              "<table border=\"1\" class=\"dataframe\">\n",
              "  <thead>\n",
              "    <tr style=\"text-align: right;\">\n",
              "      <th></th>\n",
              "      <th>id_code</th>\n",
              "      <th>diagnosis</th>\n",
              "    </tr>\n",
              "  </thead>\n",
              "  <tbody>\n",
              "    <tr>\n",
              "      <th>4</th>\n",
              "      <td>15_left.jpg</td>\n",
              "      <td>1</td>\n",
              "    </tr>\n",
              "    <tr>\n",
              "      <th>5</th>\n",
              "      <td>15_right.jpg</td>\n",
              "      <td>2</td>\n",
              "    </tr>\n",
              "    <tr>\n",
              "      <th>6</th>\n",
              "      <td>16_left.jpg</td>\n",
              "      <td>4</td>\n",
              "    </tr>\n",
              "    <tr>\n",
              "      <th>7</th>\n",
              "      <td>16_right.jpg</td>\n",
              "      <td>4</td>\n",
              "    </tr>\n",
              "    <tr>\n",
              "      <th>9</th>\n",
              "      <td>17_right.jpg</td>\n",
              "      <td>1</td>\n",
              "    </tr>\n",
              "    <tr>\n",
              "      <th>...</th>\n",
              "      <td>...</td>\n",
              "      <td>...</td>\n",
              "    </tr>\n",
              "    <tr>\n",
              "      <th>35098</th>\n",
              "      <td>44323_left.jpg</td>\n",
              "      <td>1</td>\n",
              "    </tr>\n",
              "    <tr>\n",
              "      <th>35099</th>\n",
              "      <td>44323_right.jpg</td>\n",
              "      <td>1</td>\n",
              "    </tr>\n",
              "    <tr>\n",
              "      <th>35105</th>\n",
              "      <td>44328_right.jpg</td>\n",
              "      <td>1</td>\n",
              "    </tr>\n",
              "    <tr>\n",
              "      <th>35112</th>\n",
              "      <td>44337_left.jpg</td>\n",
              "      <td>1</td>\n",
              "    </tr>\n",
              "    <tr>\n",
              "      <th>35125</th>\n",
              "      <td>44349_right.jpg</td>\n",
              "      <td>1</td>\n",
              "    </tr>\n",
              "  </tbody>\n",
              "</table>\n",
              "<p>9316 rows × 2 columns</p>\n",
              "</div>"
            ],
            "text/plain": [
              "               id_code diagnosis\n",
              "4          15_left.jpg         1\n",
              "5         15_right.jpg         2\n",
              "6          16_left.jpg         4\n",
              "7         16_right.jpg         4\n",
              "9         17_right.jpg         1\n",
              "...                ...       ...\n",
              "35098   44323_left.jpg         1\n",
              "35099  44323_right.jpg         1\n",
              "35105  44328_right.jpg         1\n",
              "35112   44337_left.jpg         1\n",
              "35125  44349_right.jpg         1\n",
              "\n",
              "[9316 rows x 2 columns]"
            ]
          },
          "metadata": {},
          "execution_count": 32
        }
      ]
    },
    {
      "cell_type": "markdown",
      "metadata": {
        "id": "039d65b1"
      },
      "source": [
        "## Let's Get Just Half the Rows for Diagnosis 1"
      ],
      "id": "039d65b1"
    },
    {
      "cell_type": "code",
      "metadata": {
        "colab": {
          "base_uri": "https://localhost:8080/"
        },
        "id": "fbf7c05c",
        "outputId": "418c3ec7-6ec7-4a4c-e1f7-3cacde16af73"
      },
      "source": [
        "df_even = aptos15[aptos15['diagnosis'] == '1']\n",
        "df_even\n",
        "\n",
        "df_even = df_even.loc[df_even.index % 2 == 0, :]\n",
        "len(df_even)"
      ],
      "id": "fbf7c05c",
      "execution_count": null,
      "outputs": [
        {
          "output_type": "execute_result",
          "data": {
            "text/plain": [
              "1212"
            ]
          },
          "metadata": {},
          "execution_count": 33
        }
      ]
    },
    {
      "cell_type": "markdown",
      "metadata": {
        "id": "f33e8eee"
      },
      "source": [
        "### We'll use df_even a little bit down the road"
      ],
      "id": "f33e8eee"
    },
    {
      "cell_type": "code",
      "metadata": {
        "colab": {
          "base_uri": "https://localhost:8080/"
        },
        "id": "4ad831cb",
        "outputId": "56b237d5-362b-4b4a-e08b-d1b59ae5877f"
      },
      "source": [
        "aptos15['diagnosis'].value_counts()"
      ],
      "id": "4ad831cb",
      "execution_count": null,
      "outputs": [
        {
          "output_type": "execute_result",
          "data": {
            "text/plain": [
              "2    5292\n",
              "1    2443\n",
              "3     873\n",
              "4     708\n",
              "Name: diagnosis, dtype: int64"
            ]
          },
          "metadata": {},
          "execution_count": 34
        }
      ]
    },
    {
      "cell_type": "markdown",
      "metadata": {
        "id": "d3a557b7"
      },
      "source": [
        "### Getting rid of all the diagnosis 1 rows in aptos 15 now that we have the amount in df_even that we need"
      ],
      "id": "d3a557b7"
    },
    {
      "cell_type": "code",
      "metadata": {
        "id": "43c7d05b"
      },
      "source": [
        "aptos15 = aptos15[aptos15['diagnosis'] != '1']"
      ],
      "id": "43c7d05b",
      "execution_count": null,
      "outputs": []
    },
    {
      "cell_type": "code",
      "metadata": {
        "colab": {
          "base_uri": "https://localhost:8080/"
        },
        "id": "167d13ea",
        "outputId": "6296ad5a-9b87-4a49-96ac-dfa9b3377d75"
      },
      "source": [
        "aptos15['diagnosis'].value_counts()"
      ],
      "id": "167d13ea",
      "execution_count": null,
      "outputs": [
        {
          "output_type": "execute_result",
          "data": {
            "text/plain": [
              "2    5292\n",
              "3     873\n",
              "4     708\n",
              "Name: diagnosis, dtype: int64"
            ]
          },
          "metadata": {},
          "execution_count": 36
        }
      ]
    },
    {
      "cell_type": "code",
      "metadata": {
        "colab": {
          "base_uri": "https://localhost:8080/"
        },
        "id": "374f6833",
        "outputId": "6851b35d-c66b-4705-91cc-07db73e52be9"
      },
      "source": [
        "aptos15 = aptos15[aptos15['diagnosis'].isin(['3','4'])]\n",
        "aptos15['diagnosis'].value_counts()"
      ],
      "id": "374f6833",
      "execution_count": null,
      "outputs": [
        {
          "output_type": "execute_result",
          "data": {
            "text/plain": [
              "3    873\n",
              "4    708\n",
              "Name: diagnosis, dtype: int64"
            ]
          },
          "metadata": {},
          "execution_count": 37
        }
      ]
    },
    {
      "cell_type": "code",
      "metadata": {
        "colab": {
          "base_uri": "https://localhost:8080/"
        },
        "id": "735dd636",
        "outputId": "73a99642-e8df-478f-bf7d-b431cb2a05c8"
      },
      "source": [
        "aptos15['diagnosis'].unique()"
      ],
      "id": "735dd636",
      "execution_count": null,
      "outputs": [
        {
          "output_type": "execute_result",
          "data": {
            "text/plain": [
              "array(['4', '3'], dtype=object)"
            ]
          },
          "metadata": {},
          "execution_count": 38
        }
      ]
    },
    {
      "cell_type": "markdown",
      "metadata": {
        "id": "ae4c4076"
      },
      "source": [
        "# We're bringing in the test data from IDRiD because...more"
      ],
      "id": "ae4c4076"
    },
    {
      "cell_type": "code",
      "metadata": {
        "colab": {
          "base_uri": "https://localhost:8080/",
          "height": 204
        },
        "id": "f6d6fa8d",
        "outputId": "d272b6df-4e99-446e-dd2f-4744d6334bee"
      },
      "source": [
        "test_idrid = pd.read_csv('/content/gdrive/MyDrive/IDRiD_test_labels.csv')\n",
        "test_idrid = test_idrid.drop(test_idrid.columns[[2]], axis=1) # Drop Macular Adema column\n",
        "test_idrid.head()"
      ],
      "id": "f6d6fa8d",
      "execution_count": null,
      "outputs": [
        {
          "output_type": "execute_result",
          "data": {
            "text/html": [
              "<div>\n",
              "<style scoped>\n",
              "    .dataframe tbody tr th:only-of-type {\n",
              "        vertical-align: middle;\n",
              "    }\n",
              "\n",
              "    .dataframe tbody tr th {\n",
              "        vertical-align: top;\n",
              "    }\n",
              "\n",
              "    .dataframe thead th {\n",
              "        text-align: right;\n",
              "    }\n",
              "</style>\n",
              "<table border=\"1\" class=\"dataframe\">\n",
              "  <thead>\n",
              "    <tr style=\"text-align: right;\">\n",
              "      <th></th>\n",
              "      <th>Image name</th>\n",
              "      <th>Retinopathy grade</th>\n",
              "    </tr>\n",
              "  </thead>\n",
              "  <tbody>\n",
              "    <tr>\n",
              "      <th>0</th>\n",
              "      <td>IDRiD_001</td>\n",
              "      <td>4</td>\n",
              "    </tr>\n",
              "    <tr>\n",
              "      <th>1</th>\n",
              "      <td>IDRiD_002</td>\n",
              "      <td>4</td>\n",
              "    </tr>\n",
              "    <tr>\n",
              "      <th>2</th>\n",
              "      <td>IDRiD_003</td>\n",
              "      <td>4</td>\n",
              "    </tr>\n",
              "    <tr>\n",
              "      <th>3</th>\n",
              "      <td>IDRiD_004</td>\n",
              "      <td>4</td>\n",
              "    </tr>\n",
              "    <tr>\n",
              "      <th>4</th>\n",
              "      <td>IDRiD_005</td>\n",
              "      <td>4</td>\n",
              "    </tr>\n",
              "  </tbody>\n",
              "</table>\n",
              "</div>"
            ],
            "text/plain": [
              "  Image name  Retinopathy grade\n",
              "0  IDRiD_001                  4\n",
              "1  IDRiD_002                  4\n",
              "2  IDRiD_003                  4\n",
              "3  IDRiD_004                  4\n",
              "4  IDRiD_005                  4"
            ]
          },
          "metadata": {},
          "execution_count": 39
        }
      ]
    },
    {
      "cell_type": "code",
      "metadata": {
        "colab": {
          "base_uri": "https://localhost:8080/",
          "height": 204
        },
        "id": "aaabe0f2",
        "outputId": "927c3b71-9fed-45c0-d40d-26897aa2c76e"
      },
      "source": [
        "# frist change the names of columns to match other dataframes\n",
        "# then add .png to image name column and turning Retinopathy grade values to str\n",
        "\n",
        "test_idrid.rename(columns={\"Image name\": \"id_code\", \"Retinopathy grade\": \"diagnosis\"}, inplace=True)\n",
        "\n",
        "test_idrid['id_code'] = test_idrid['id_code'].apply(lambda x : \"{}{}\".format(\"test_\" + x, \".png\"))\n",
        "\n",
        "test_idrid['diagnosis'] =  test_idrid['diagnosis'].astype(str)\n",
        "\n",
        "test_idrid.head()"
      ],
      "id": "aaabe0f2",
      "execution_count": null,
      "outputs": [
        {
          "output_type": "execute_result",
          "data": {
            "text/html": [
              "<div>\n",
              "<style scoped>\n",
              "    .dataframe tbody tr th:only-of-type {\n",
              "        vertical-align: middle;\n",
              "    }\n",
              "\n",
              "    .dataframe tbody tr th {\n",
              "        vertical-align: top;\n",
              "    }\n",
              "\n",
              "    .dataframe thead th {\n",
              "        text-align: right;\n",
              "    }\n",
              "</style>\n",
              "<table border=\"1\" class=\"dataframe\">\n",
              "  <thead>\n",
              "    <tr style=\"text-align: right;\">\n",
              "      <th></th>\n",
              "      <th>id_code</th>\n",
              "      <th>diagnosis</th>\n",
              "    </tr>\n",
              "  </thead>\n",
              "  <tbody>\n",
              "    <tr>\n",
              "      <th>0</th>\n",
              "      <td>test_IDRiD_001.png</td>\n",
              "      <td>4</td>\n",
              "    </tr>\n",
              "    <tr>\n",
              "      <th>1</th>\n",
              "      <td>test_IDRiD_002.png</td>\n",
              "      <td>4</td>\n",
              "    </tr>\n",
              "    <tr>\n",
              "      <th>2</th>\n",
              "      <td>test_IDRiD_003.png</td>\n",
              "      <td>4</td>\n",
              "    </tr>\n",
              "    <tr>\n",
              "      <th>3</th>\n",
              "      <td>test_IDRiD_004.png</td>\n",
              "      <td>4</td>\n",
              "    </tr>\n",
              "    <tr>\n",
              "      <th>4</th>\n",
              "      <td>test_IDRiD_005.png</td>\n",
              "      <td>4</td>\n",
              "    </tr>\n",
              "  </tbody>\n",
              "</table>\n",
              "</div>"
            ],
            "text/plain": [
              "              id_code diagnosis\n",
              "0  test_IDRiD_001.png         4\n",
              "1  test_IDRiD_002.png         4\n",
              "2  test_IDRiD_003.png         4\n",
              "3  test_IDRiD_004.png         4\n",
              "4  test_IDRiD_005.png         4"
            ]
          },
          "metadata": {},
          "execution_count": 40
        }
      ]
    },
    {
      "cell_type": "code",
      "metadata": {
        "colab": {
          "base_uri": "https://localhost:8080/"
        },
        "id": "33e0d60b",
        "outputId": "e9bc88e1-b5ef-457b-80cb-8cc4b4c15c2c"
      },
      "source": [
        "test_idrid['diagnosis'].value_counts()"
      ],
      "id": "33e0d60b",
      "execution_count": null,
      "outputs": [
        {
          "output_type": "execute_result",
          "data": {
            "text/plain": [
              "0    34\n",
              "2    32\n",
              "3    19\n",
              "4    13\n",
              "1     5\n",
              "Name: diagnosis, dtype: int64"
            ]
          },
          "metadata": {},
          "execution_count": 41
        }
      ]
    },
    {
      "cell_type": "markdown",
      "metadata": {
        "id": "43bef7e2"
      },
      "source": [
        "drop all but values 3, 4 and 0"
      ],
      "id": "43bef7e2"
    },
    {
      "cell_type": "code",
      "metadata": {
        "colab": {
          "base_uri": "https://localhost:8080/",
          "height": 204
        },
        "id": "7d1f5549",
        "outputId": "8260e414-f407-4a2b-baae-e034e0b841f9"
      },
      "source": [
        "test_idrid = test_idrid[test_idrid['diagnosis'].isin(['0','3','4'])]\n",
        "test_idrid.head()"
      ],
      "id": "7d1f5549",
      "execution_count": null,
      "outputs": [
        {
          "output_type": "execute_result",
          "data": {
            "text/html": [
              "<div>\n",
              "<style scoped>\n",
              "    .dataframe tbody tr th:only-of-type {\n",
              "        vertical-align: middle;\n",
              "    }\n",
              "\n",
              "    .dataframe tbody tr th {\n",
              "        vertical-align: top;\n",
              "    }\n",
              "\n",
              "    .dataframe thead th {\n",
              "        text-align: right;\n",
              "    }\n",
              "</style>\n",
              "<table border=\"1\" class=\"dataframe\">\n",
              "  <thead>\n",
              "    <tr style=\"text-align: right;\">\n",
              "      <th></th>\n",
              "      <th>id_code</th>\n",
              "      <th>diagnosis</th>\n",
              "    </tr>\n",
              "  </thead>\n",
              "  <tbody>\n",
              "    <tr>\n",
              "      <th>0</th>\n",
              "      <td>test_IDRiD_001.png</td>\n",
              "      <td>4</td>\n",
              "    </tr>\n",
              "    <tr>\n",
              "      <th>1</th>\n",
              "      <td>test_IDRiD_002.png</td>\n",
              "      <td>4</td>\n",
              "    </tr>\n",
              "    <tr>\n",
              "      <th>2</th>\n",
              "      <td>test_IDRiD_003.png</td>\n",
              "      <td>4</td>\n",
              "    </tr>\n",
              "    <tr>\n",
              "      <th>3</th>\n",
              "      <td>test_IDRiD_004.png</td>\n",
              "      <td>4</td>\n",
              "    </tr>\n",
              "    <tr>\n",
              "      <th>4</th>\n",
              "      <td>test_IDRiD_005.png</td>\n",
              "      <td>4</td>\n",
              "    </tr>\n",
              "  </tbody>\n",
              "</table>\n",
              "</div>"
            ],
            "text/plain": [
              "              id_code diagnosis\n",
              "0  test_IDRiD_001.png         4\n",
              "1  test_IDRiD_002.png         4\n",
              "2  test_IDRiD_003.png         4\n",
              "3  test_IDRiD_004.png         4\n",
              "4  test_IDRiD_005.png         4"
            ]
          },
          "metadata": {},
          "execution_count": 42
        }
      ]
    },
    {
      "cell_type": "code",
      "metadata": {
        "colab": {
          "base_uri": "https://localhost:8080/"
        },
        "id": "e047f7f9",
        "outputId": "9a847408-27ea-4279-8c8d-dd53fbadf7ad"
      },
      "source": [
        "test_idrid['diagnosis'].unique()"
      ],
      "id": "e047f7f9",
      "execution_count": null,
      "outputs": [
        {
          "output_type": "execute_result",
          "data": {
            "text/plain": [
              "array(['4', '3', '0'], dtype=object)"
            ]
          },
          "metadata": {},
          "execution_count": 43
        }
      ]
    },
    {
      "cell_type": "markdown",
      "metadata": {
        "id": "882db146"
      },
      "source": [
        "### combing test_idrid and df"
      ],
      "id": "882db146"
    },
    {
      "cell_type": "code",
      "metadata": {
        "colab": {
          "base_uri": "https://localhost:8080/",
          "height": 204
        },
        "id": "9f4f8c1a",
        "outputId": "f093a05e-b677-4a5d-e6f9-d547707b247b"
      },
      "source": [
        "df = pd.concat([df, test_idrid], ignore_index=True)\n",
        "\n",
        "df.tail()"
      ],
      "id": "9f4f8c1a",
      "execution_count": null,
      "outputs": [
        {
          "output_type": "execute_result",
          "data": {
            "text/html": [
              "<div>\n",
              "<style scoped>\n",
              "    .dataframe tbody tr th:only-of-type {\n",
              "        vertical-align: middle;\n",
              "    }\n",
              "\n",
              "    .dataframe tbody tr th {\n",
              "        vertical-align: top;\n",
              "    }\n",
              "\n",
              "    .dataframe thead th {\n",
              "        text-align: right;\n",
              "    }\n",
              "</style>\n",
              "<table border=\"1\" class=\"dataframe\">\n",
              "  <thead>\n",
              "    <tr style=\"text-align: right;\">\n",
              "      <th></th>\n",
              "      <th>id_code</th>\n",
              "      <th>diagnosis</th>\n",
              "    </tr>\n",
              "  </thead>\n",
              "  <tbody>\n",
              "    <tr>\n",
              "      <th>3221</th>\n",
              "      <td>test_IDRiD_096.png</td>\n",
              "      <td>0</td>\n",
              "    </tr>\n",
              "    <tr>\n",
              "      <th>3222</th>\n",
              "      <td>test_IDRiD_097.png</td>\n",
              "      <td>0</td>\n",
              "    </tr>\n",
              "    <tr>\n",
              "      <th>3223</th>\n",
              "      <td>test_IDRiD_098.png</td>\n",
              "      <td>0</td>\n",
              "    </tr>\n",
              "    <tr>\n",
              "      <th>3224</th>\n",
              "      <td>test_IDRiD_099.png</td>\n",
              "      <td>0</td>\n",
              "    </tr>\n",
              "    <tr>\n",
              "      <th>3225</th>\n",
              "      <td>test_IDRiD_103.png</td>\n",
              "      <td>0</td>\n",
              "    </tr>\n",
              "  </tbody>\n",
              "</table>\n",
              "</div>"
            ],
            "text/plain": [
              "                 id_code diagnosis\n",
              "3221  test_IDRiD_096.png         0\n",
              "3222  test_IDRiD_097.png         0\n",
              "3223  test_IDRiD_098.png         0\n",
              "3224  test_IDRiD_099.png         0\n",
              "3225  test_IDRiD_103.png         0"
            ]
          },
          "metadata": {},
          "execution_count": 44
        }
      ]
    },
    {
      "cell_type": "code",
      "metadata": {
        "colab": {
          "base_uri": "https://localhost:8080/",
          "height": 204
        },
        "id": "668c7c27",
        "outputId": "67550abb-9329-4151-cce2-3fc81da351f9"
      },
      "source": [
        "df = pd.concat([df, test_idrid], ignore_index=True)\n",
        "\n",
        "df.tail()"
      ],
      "id": "668c7c27",
      "execution_count": null,
      "outputs": [
        {
          "output_type": "execute_result",
          "data": {
            "text/html": [
              "<div>\n",
              "<style scoped>\n",
              "    .dataframe tbody tr th:only-of-type {\n",
              "        vertical-align: middle;\n",
              "    }\n",
              "\n",
              "    .dataframe tbody tr th {\n",
              "        vertical-align: top;\n",
              "    }\n",
              "\n",
              "    .dataframe thead th {\n",
              "        text-align: right;\n",
              "    }\n",
              "</style>\n",
              "<table border=\"1\" class=\"dataframe\">\n",
              "  <thead>\n",
              "    <tr style=\"text-align: right;\">\n",
              "      <th></th>\n",
              "      <th>id_code</th>\n",
              "      <th>diagnosis</th>\n",
              "    </tr>\n",
              "  </thead>\n",
              "  <tbody>\n",
              "    <tr>\n",
              "      <th>3287</th>\n",
              "      <td>test_IDRiD_096.png</td>\n",
              "      <td>0</td>\n",
              "    </tr>\n",
              "    <tr>\n",
              "      <th>3288</th>\n",
              "      <td>test_IDRiD_097.png</td>\n",
              "      <td>0</td>\n",
              "    </tr>\n",
              "    <tr>\n",
              "      <th>3289</th>\n",
              "      <td>test_IDRiD_098.png</td>\n",
              "      <td>0</td>\n",
              "    </tr>\n",
              "    <tr>\n",
              "      <th>3290</th>\n",
              "      <td>test_IDRiD_099.png</td>\n",
              "      <td>0</td>\n",
              "    </tr>\n",
              "    <tr>\n",
              "      <th>3291</th>\n",
              "      <td>test_IDRiD_103.png</td>\n",
              "      <td>0</td>\n",
              "    </tr>\n",
              "  </tbody>\n",
              "</table>\n",
              "</div>"
            ],
            "text/plain": [
              "                 id_code diagnosis\n",
              "3287  test_IDRiD_096.png         0\n",
              "3288  test_IDRiD_097.png         0\n",
              "3289  test_IDRiD_098.png         0\n",
              "3290  test_IDRiD_099.png         0\n",
              "3291  test_IDRiD_103.png         0"
            ]
          },
          "metadata": {},
          "execution_count": 45
        }
      ]
    },
    {
      "cell_type": "code",
      "metadata": {
        "colab": {
          "base_uri": "https://localhost:8080/"
        },
        "id": "ae8aacc4",
        "outputId": "e20d2372-59ba-4fc7-a063-f61168393a0d"
      },
      "source": [
        "df['diagnosis'].value_counts()"
      ],
      "id": "ae8aacc4",
      "execution_count": null,
      "outputs": [
        {
          "output_type": "execute_result",
          "data": {
            "text/plain": [
              "2    1135\n",
              "0    1092\n",
              "1     390\n",
              "4     370\n",
              "3     305\n",
              "Name: diagnosis, dtype: int64"
            ]
          },
          "metadata": {},
          "execution_count": 46
        }
      ]
    },
    {
      "cell_type": "markdown",
      "metadata": {
        "id": "5e68539f"
      },
      "source": [
        "dropping all the l labels fromt the datarame"
      ],
      "id": "5e68539f"
    },
    {
      "cell_type": "code",
      "metadata": {
        "id": "d3034b84"
      },
      "source": [
        "df = df[df['diagnosis'] != '1']"
      ],
      "id": "d3034b84",
      "execution_count": null,
      "outputs": []
    },
    {
      "cell_type": "markdown",
      "metadata": {
        "id": "13270faa"
      },
      "source": [
        "### Enter our df_even from above. Let's combine it with df"
      ],
      "id": "13270faa"
    },
    {
      "cell_type": "code",
      "metadata": {
        "colab": {
          "base_uri": "https://localhost:8080/"
        },
        "id": "9bcea9cf",
        "outputId": "872fae02-4840-40d2-a3ae-e250a9428a1e"
      },
      "source": [
        "df = pd.concat([df, df_even], ignore_index=True)\n",
        "\n",
        "df['diagnosis'].value_counts()"
      ],
      "id": "9bcea9cf",
      "execution_count": null,
      "outputs": [
        {
          "output_type": "execute_result",
          "data": {
            "text/plain": [
              "1    1212\n",
              "2    1135\n",
              "0    1092\n",
              "4     370\n",
              "3     305\n",
              "Name: diagnosis, dtype: int64"
            ]
          },
          "metadata": {},
          "execution_count": 48
        }
      ]
    },
    {
      "cell_type": "markdown",
      "metadata": {
        "id": "1868380d"
      },
      "source": [
        "### Now combine aptos 15"
      ],
      "id": "1868380d"
    },
    {
      "cell_type": "code",
      "metadata": {
        "id": "d43a4dc8"
      },
      "source": [
        "df = pd.concat([df, aptos15], ignore_index=True )"
      ],
      "id": "d43a4dc8",
      "execution_count": null,
      "outputs": []
    },
    {
      "cell_type": "markdown",
      "metadata": {
        "id": "d2ccaacf"
      },
      "source": [
        "### Hey look at that, all our labels seem to be around the same amount. All that work payed off"
      ],
      "id": "d2ccaacf"
    },
    {
      "cell_type": "code",
      "metadata": {
        "colab": {
          "base_uri": "https://localhost:8080/"
        },
        "id": "e2a01ed7",
        "outputId": "6865ecd6-1a29-484b-e45c-8612cb90a5f7"
      },
      "source": [
        "df['diagnosis'].value_counts()"
      ],
      "id": "e2a01ed7",
      "execution_count": null,
      "outputs": [
        {
          "output_type": "execute_result",
          "data": {
            "text/plain": [
              "1    1212\n",
              "3    1178\n",
              "2    1135\n",
              "0    1092\n",
              "4    1078\n",
              "Name: diagnosis, dtype: int64"
            ]
          },
          "metadata": {},
          "execution_count": 50
        }
      ]
    },
    {
      "cell_type": "markdown",
      "metadata": {
        "id": "4551c7af"
      },
      "source": [
        "### Percentage-wise?"
      ],
      "id": "4551c7af"
    },
    {
      "cell_type": "code",
      "metadata": {
        "colab": {
          "base_uri": "https://localhost:8080/"
        },
        "id": "16e68e6b",
        "outputId": "5981d8c9-6e1b-4bb2-bde8-ad6fa68effb0"
      },
      "source": [
        "df['diagnosis'].value_counts(normalize=True)"
      ],
      "id": "16e68e6b",
      "execution_count": null,
      "outputs": [
        {
          "output_type": "execute_result",
          "data": {
            "text/plain": [
              "1    0.212818\n",
              "3    0.206848\n",
              "2    0.199298\n",
              "0    0.191747\n",
              "4    0.189289\n",
              "Name: diagnosis, dtype: float64"
            ]
          },
          "metadata": {},
          "execution_count": 51
        }
      ]
    },
    {
      "cell_type": "markdown",
      "metadata": {
        "id": "GGcDqBt6O4-b"
      },
      "source": [
        "Looks good to me, they're all around 20%\n"
      ],
      "id": "GGcDqBt6O4-b"
    },
    {
      "cell_type": "code",
      "metadata": {
        "id": "e4da15c9"
      },
      "source": [
        "counts = df['diagnosis'].value_counts(normalize=True)"
      ],
      "id": "e4da15c9",
      "execution_count": null,
      "outputs": []
    },
    {
      "cell_type": "markdown",
      "metadata": {
        "id": "5cf1eec5"
      },
      "source": [
        "### A look at the Labels distribution"
      ],
      "id": "5cf1eec5"
    },
    {
      "cell_type": "code",
      "metadata": {
        "colab": {
          "base_uri": "https://localhost:8080/",
          "height": 265
        },
        "id": "0e5f7076",
        "outputId": "8dbc9fc1-69ed-4105-8fda-c194c49484e9"
      },
      "source": [
        "counts.plot.kde();"
      ],
      "id": "0e5f7076",
      "execution_count": null,
      "outputs": [
        {
          "output_type": "display_data",
          "data": {
            "image/png": "[encoded data removed]",
            "text/plain": [
              "<Figure size 432x288 with 1 Axes>"
            ]
          },
          "metadata": {
            "needs_background": "light"
          }
        }
      ]
    },
    {
      "cell_type": "markdown",
      "metadata": {
        "id": "dd39d1f6"
      },
      "source": [
        "### That looks like a bell to me. Let's see the labels in bar-form"
      ],
      "id": "dd39d1f6"
    },
    {
      "cell_type": "code",
      "metadata": {
        "colab": {
          "base_uri": "https://localhost:8080/",
          "height": 262
        },
        "id": "24144fee",
        "outputId": "c80ecdc7-fbe7-4b0b-c1b0-fa23176eb136"
      },
      "source": [
        "df['diagnosis'].value_counts().plot(kind='bar');"
      ],
      "id": "24144fee",
      "execution_count": null,
      "outputs": [
        {
          "output_type": "display_data",
          "data": {
            "image/png": "[encoded data removed]",
            "text/plain": [
              "<Figure size 432x288 with 1 Axes>"
            ]
          },
          "metadata": {
            "needs_background": "light"
          }
        }
      ]
    },
    {
      "cell_type": "markdown",
      "metadata": {
        "id": "d9117543"
      },
      "source": [
        "## Much better\n",
        "the dataset looks fairly balanced, ready to run through a model I'd say"
      ],
      "id": "d9117543"
    },
    {
      "cell_type": "markdown",
      "metadata": {
        "id": "NEmkwBu0yJiZ"
      },
      "source": [
        "## How many images are we working with? "
      ],
      "id": "NEmkwBu0yJiZ"
    },
    {
      "cell_type": "code",
      "metadata": {
        "colab": {
          "base_uri": "https://localhost:8080/"
        },
        "id": "f0e55353",
        "outputId": "0806bf2d-a4e8-4c65-b3dd-2c28561f794c"
      },
      "source": [
        "print(len(df))\n",
        "print(\"Cool We've got more than 5,000 retinas to work with!\")"
      ],
      "id": "f0e55353",
      "execution_count": null,
      "outputs": [
        {
          "output_type": "stream",
          "name": "stdout",
          "text": [
            "5695\n",
            "Cool We've got more than 5,000 retinas to work with!\n"
          ]
        }
      ]
    },
    {
      "cell_type": "markdown",
      "metadata": {
        "id": "sb2k81eKNAIF"
      },
      "source": [
        "# First, Let's break off some dedicated rows and set them aside to test on"
      ],
      "id": "sb2k81eKNAIF"
    },
    {
      "cell_type": "code",
      "metadata": {
        "id": "DOpuzmLb-H1p"
      },
      "source": [
        "train=df.sample(frac=0.8,random_state=42) #random state is a seed value\n",
        "test=df.drop(train.index)"
      ],
      "id": "DOpuzmLb-H1p",
      "execution_count": null,
      "outputs": []
    },
    {
      "cell_type": "markdown",
      "metadata": {
        "id": "N5isdtTtQEbD"
      },
      "source": [
        "# First Thing's First\n",
        "\n",
        "## –The Baseline Model–"
      ],
      "id": "N5isdtTtQEbD"
    },
    {
      "cell_type": "code",
      "metadata": {
        "colab": {
          "base_uri": "https://localhost:8080/"
        },
        "id": "Slt040EKOagU",
        "outputId": "cc8a397c-ac6f-410c-8c72-ff11331dd4b7"
      },
      "source": [
        "from sklearn.dummy import DummyClassifier\n",
        "\n",
        "X = df['id_code']\n",
        "y = df['diagnosis']\n",
        "\n",
        "dummy_clf = DummyClassifier(strategy=\"most_frequent\")\n",
        "dummy_clf.fit(X, y)\n",
        "DummyClassifier(strategy='most_frequent')\n",
        "dummy_clf.predict(X)\n",
        "\n",
        "dummy_clf.score(X, y)\n"
      ],
      "id": "Slt040EKOagU",
      "execution_count": null,
      "outputs": [
        {
          "output_type": "execute_result",
          "data": {
            "text/plain": [
              "0.2128182616330114"
            ]
          },
          "metadata": {},
          "execution_count": 57
        }
      ]
    },
    {
      "cell_type": "markdown",
      "metadata": {
        "id": "rbT4Wtz0QVEQ"
      },
      "source": [
        "This totally lines up with the idea of a model picking the most frequent class, since pretty much all our labels made up 20% of the data, after cleaning. It's not surprising that we have about 20% accuracy from our baseline.  \n",
        "\n",
        "## I have a feeling we can do better than that"
      ],
      "id": "rbT4Wtz0QVEQ"
    },
    {
      "cell_type": "markdown",
      "metadata": {
        "id": "4e6a2706"
      },
      "source": [
        "# Using flow_from_dataframe( ) to create train, test, validate data"
      ],
      "id": "4e6a2706"
    },
    {
      "cell_type": "code",
      "metadata": {
        "colab": {
          "base_uri": "https://localhost:8080/"
        },
        "id": "47abb1c4",
        "outputId": "28de2cc3-b9db-42ba-e407-657d0db48424"
      },
      "source": [
        "#Train flow_from_dataframe\n",
        "datagen=ImageDataGenerator(rescale=1./255.,\n",
        "                           brightness_range=(0.95, 0.99), \n",
        "                           shear_range=0.05,\n",
        "                           zoom_range=0.05,\n",
        "                           height_shift_range=0.05,\n",
        "                           width_shift_range=0.05,\n",
        "                           validation_split=0.20, \n",
        "                           horizontal_flip=True, \n",
        "                           rotation_range=20)\n",
        "\n",
        "\n",
        "# # Validate flow_from_dataframe\n",
        "valgen = ImageDataGenerator(rescale=1./255., validation_split=0.20) \n",
        "\n",
        "\n",
        "# Train flow_from_datafram\n",
        "train_generator=datagen.flow_from_dataframe(\n",
        "dataframe=train, \n",
        "directory=\"/content/train_combined/\",  \n",
        "x_col=\"id_code\",\n",
        "y_col=\"diagnosis\",\n",
        "subset=\"training\",\n",
        "batch_size=16,  #next time after Iota try batch 32**********\n",
        "seed=42,\n",
        "shuffle=True,\n",
        "class_mode=\"categorical\",\n",
        "target_size=(512,512)) \n",
        "\n",
        "# Validation flow_from_dataframe\n",
        "valid_generator=valgen.flow_from_dataframe(\n",
        "dataframe=train,\n",
        "directory=\"/content/train_combined/\",\n",
        "x_col=\"id_code\",\n",
        "y_col=\"diagnosis\",\n",
        "subset=\"validation\",\n",
        "batch_size=16, \n",
        "seed=42,\n",
        "shuffle=True, \n",
        "class_mode=\"categorical\",\n",
        "target_size=(512,512))\n",
        "\n",
        "# Test flow_from_dataframe\n",
        "test_datagen=ImageDataGenerator(rescale=1./255.)\n",
        "\n",
        "\n",
        "test_generator=test_datagen.flow_from_dataframe(\n",
        "dataframe=test,\n",
        "directory=\"/content/train_combined/\",\n",
        "x_col=\"id_code\",\n",
        "y_col=\"diagnosis\",\n",
        "batch_size=1, \n",
        "seed=42,\n",
        "shuffle=False,\n",
        "class_mode=\"categorical\",\n",
        "target_size=(512,512)) # not sure if we change test sizes????"
      ],
      "id": "47abb1c4",
      "execution_count": null,
      "outputs": [
        {
          "output_type": "stream",
          "name": "stdout",
          "text": [
            "Found 3313 validated image filenames belonging to 5 classes.\n",
            "Found 828 validated image filenames belonging to 5 classes.\n",
            "Found 1029 validated image filenames belonging to 5 classes.\n"
          ]
        },
        {
          "output_type": "stream",
          "name": "stderr",
          "text": [
            "/usr/local/lib/python3.7/dist-packages/keras_preprocessing/image/dataframe_iterator.py:282: UserWarning: Found 415 invalid image filename(s) in x_col=\"id_code\". These filename(s) will be ignored.\n",
            "  .format(n_invalid, x_col)\n",
            "/usr/local/lib/python3.7/dist-packages/keras_preprocessing/image/dataframe_iterator.py:282: UserWarning: Found 415 invalid image filename(s) in x_col=\"id_code\". These filename(s) will be ignored.\n",
            "  .format(n_invalid, x_col)\n",
            "/usr/local/lib/python3.7/dist-packages/keras_preprocessing/image/dataframe_iterator.py:282: UserWarning: Found 110 invalid image filename(s) in x_col=\"id_code\". These filename(s) will be ignored.\n",
            "  .format(n_invalid, x_col)\n"
          ]
        }
      ]
    },
    {
      "cell_type": "markdown",
      "metadata": {
        "id": "11v0kntkzhus"
      },
      "source": [
        "# Kappa Model\n",
        "\n",
        "## Now Let's use ResNet50_V2 but replace the last layer with our own"
      ],
      "id": "11v0kntkzhus"
    },
    {
      "cell_type": "code",
      "metadata": {
        "id": "HkhTHP13xK5_"
      },
      "source": [
        "from keras.applications.resnet_v2 import ResNet50V2\n",
        "base_model_kappa = ResNet50V2(include_top=False, weights='imagenet', input_shape=(512,512,3))\n",
        "\n",
        "x = base_model_kappa.output\n",
        "\n",
        "x = GlobalAveragePooling2D()(x)\n",
        "x = Dense(512, activation= 'relu')(x) \n",
        "x = Dropout(.2)(x)\n",
        "\n",
        "\n",
        "predictions = Dense(5, activation= 'softmax')(x)\n",
        "resnet_model_kappa = Model(inputs=base_model_kappa.input,  outputs=predictions)\n",
        "\n",
        "for layer in base_model_kappa.layers:\n",
        "  layer.trainable = False"
      ],
      "id": "HkhTHP13xK5_",
      "execution_count": null,
      "outputs": []
    },
    {
      "cell_type": "markdown",
      "metadata": {
        "id": "Yv_eZE1UzzGN"
      },
      "source": [
        "# Must compile the Kappa model with our ***Brand New AdamW!***"
      ],
      "id": "Yv_eZE1UzzGN"
    },
    {
      "cell_type": "code",
      "metadata": {
        "id": "4zXzgDG-0LvO"
      },
      "source": [
        "# thanks to hugoych on https://github.com/tensorflow/addons/issues/844\n",
        "\n",
        "lr_schedule = tf.optimizers.schedules.ExponentialDecay(1e-4, 100, 0.9)\n",
        "wd_schedule = tf.optimizers.schedules.ExponentialDecay(5e-5, 100, 0.9)\n",
        "opt = AdamW(learning_rate=lr_schedule, weight_decay=lambda : None)\n",
        "opt.weight_decay = lambda : wd_schedule(opt.iterations)\n",
        "resnet_model_kappa.compile(optimizer=opt, loss='categorical_crossentropy', metrics=['accuracy'])"
      ],
      "id": "4zXzgDG-0LvO",
      "execution_count": null,
      "outputs": []
    },
    {
      "cell_type": "code",
      "metadata": {
        "id": "NyLU8RJbBMmu",
        "colab": {
          "base_uri": "https://localhost:8080/"
        },
        "outputId": "60863fef-bcfe-4027-9e55-656fe180e420"
      },
      "source": [
        "resnet_model_kappa.summary()"
      ],
      "id": "NyLU8RJbBMmu",
      "execution_count": null,
      "outputs": [
        {
          "output_type": "stream",
          "name": "stdout",
          "text": [
            "Model: \"model_6\"\n",
            "__________________________________________________________________________________________________\n",
            "Layer (type)                    Output Shape         Param #     Connected to                     \n",
            "==================================================================================================\n",
            "input_7 (InputLayer)            [(None, 512, 512, 3) 0                                            \n",
            "__________________________________________________________________________________________________\n",
            "conv1_pad (ZeroPadding2D)       (None, 518, 518, 3)  0           input_7[0][0]                    \n",
            "__________________________________________________________________________________________________\n",
            "conv1_conv (Conv2D)             (None, 256, 256, 64) 9472        conv1_pad[0][0]                  \n",
            "__________________________________________________________________________________________________\n",
            "pool1_pad (ZeroPadding2D)       (None, 258, 258, 64) 0           conv1_conv[0][0]                 \n",
            "__________________________________________________________________________________________________\n",
            "pool1_pool (MaxPooling2D)       (None, 128, 128, 64) 0           pool1_pad[0][0]                  \n",
            "__________________________________________________________________________________________________\n",
            "conv2_block1_preact_bn (BatchNo (None, 128, 128, 64) 256         pool1_pool[0][0]                 \n",
            "__________________________________________________________________________________________________\n",
            "conv2_block1_preact_relu (Activ (None, 128, 128, 64) 0           conv2_block1_preact_bn[0][0]     \n",
            "__________________________________________________________________________________________________\n",
            "conv2_block1_1_conv (Conv2D)    (None, 128, 128, 64) 4096        conv2_block1_preact_relu[0][0]   \n",
            "__________________________________________________________________________________________________\n",
            "conv2_block1_1_bn (BatchNormali (None, 128, 128, 64) 256         conv2_block1_1_conv[0][0]        \n",
            "__________________________________________________________________________________________________\n",
            "conv2_block1_1_relu (Activation (None, 128, 128, 64) 0           conv2_block1_1_bn[0][0]          \n",
            "__________________________________________________________________________________________________\n",
            "conv2_block1_2_pad (ZeroPadding (None, 130, 130, 64) 0           conv2_block1_1_relu[0][0]        \n",
            "__________________________________________________________________________________________________\n",
            "conv2_block1_2_conv (Conv2D)    (None, 128, 128, 64) 36864       conv2_block1_2_pad[0][0]         \n",
            "__________________________________________________________________________________________________\n",
            "conv2_block1_2_bn (BatchNormali (None, 128, 128, 64) 256         conv2_block1_2_conv[0][0]        \n",
            "__________________________________________________________________________________________________\n",
            "conv2_block1_2_relu (Activation (None, 128, 128, 64) 0           conv2_block1_2_bn[0][0]          \n",
            "__________________________________________________________________________________________________\n",
            "conv2_block1_0_conv (Conv2D)    (None, 128, 128, 256 16640       conv2_block1_preact_relu[0][0]   \n",
            "__________________________________________________________________________________________________\n",
            "conv2_block1_3_conv (Conv2D)    (None, 128, 128, 256 16640       conv2_block1_2_relu[0][0]        \n",
            "__________________________________________________________________________________________________\n",
            "conv2_block1_out (Add)          (None, 128, 128, 256 0           conv2_block1_0_conv[0][0]        \n",
            "                                                                 conv2_block1_3_conv[0][0]        \n",
            "__________________________________________________________________________________________________\n",
            "conv2_block2_preact_bn (BatchNo (None, 128, 128, 256 1024        conv2_block1_out[0][0]           \n",
            "__________________________________________________________________________________________________\n",
            "conv2_block2_preact_relu (Activ (None, 128, 128, 256 0           conv2_block2_preact_bn[0][0]     \n",
            "__________________________________________________________________________________________________\n",
            "conv2_block2_1_conv (Conv2D)    (None, 128, 128, 64) 16384       conv2_block2_preact_relu[0][0]   \n",
            "__________________________________________________________________________________________________\n",
            "conv2_block2_1_bn (BatchNormali (None, 128, 128, 64) 256         conv2_block2_1_conv[0][0]        \n",
            "__________________________________________________________________________________________________\n",
            "conv2_block2_1_relu (Activation (None, 128, 128, 64) 0           conv2_block2_1_bn[0][0]          \n",
            "__________________________________________________________________________________________________\n",
            "conv2_block2_2_pad (ZeroPadding (None, 130, 130, 64) 0           conv2_block2_1_relu[0][0]        \n",
            "__________________________________________________________________________________________________\n",
            "conv2_block2_2_conv (Conv2D)    (None, 128, 128, 64) 36864       conv2_block2_2_pad[0][0]         \n",
            "__________________________________________________________________________________________________\n",
            "conv2_block2_2_bn (BatchNormali (None, 128, 128, 64) 256         conv2_block2_2_conv[0][0]        \n",
            "__________________________________________________________________________________________________\n",
            "conv2_block2_2_relu (Activation (None, 128, 128, 64) 0           conv2_block2_2_bn[0][0]          \n",
            "__________________________________________________________________________________________________\n",
            "conv2_block2_3_conv (Conv2D)    (None, 128, 128, 256 16640       conv2_block2_2_relu[0][0]        \n",
            "__________________________________________________________________________________________________\n",
            "conv2_block2_out (Add)          (None, 128, 128, 256 0           conv2_block1_out[0][0]           \n",
            "                                                                 conv2_block2_3_conv[0][0]        \n",
            "__________________________________________________________________________________________________\n",
            "conv2_block3_preact_bn (BatchNo (None, 128, 128, 256 1024        conv2_block2_out[0][0]           \n",
            "__________________________________________________________________________________________________\n",
            "conv2_block3_preact_relu (Activ (None, 128, 128, 256 0           conv2_block3_preact_bn[0][0]     \n",
            "__________________________________________________________________________________________________\n",
            "conv2_block3_1_conv (Conv2D)    (None, 128, 128, 64) 16384       conv2_block3_preact_relu[0][0]   \n",
            "__________________________________________________________________________________________________\n",
            "conv2_block3_1_bn (BatchNormali (None, 128, 128, 64) 256         conv2_block3_1_conv[0][0]        \n",
            "__________________________________________________________________________________________________\n",
            "conv2_block3_1_relu (Activation (None, 128, 128, 64) 0           conv2_block3_1_bn[0][0]          \n",
            "__________________________________________________________________________________________________\n",
            "conv2_block3_2_pad (ZeroPadding (None, 130, 130, 64) 0           conv2_block3_1_relu[0][0]        \n",
            "__________________________________________________________________________________________________\n",
            "conv2_block3_2_conv (Conv2D)    (None, 64, 64, 64)   36864       conv2_block3_2_pad[0][0]         \n",
            "__________________________________________________________________________________________________\n",
            "conv2_block3_2_bn (BatchNormali (None, 64, 64, 64)   256         conv2_block3_2_conv[0][0]        \n",
            "__________________________________________________________________________________________________\n",
            "conv2_block3_2_relu (Activation (None, 64, 64, 64)   0           conv2_block3_2_bn[0][0]          \n",
            "__________________________________________________________________________________________________\n",
            "max_pooling2d_18 (MaxPooling2D) (None, 64, 64, 256)  0           conv2_block2_out[0][0]           \n",
            "__________________________________________________________________________________________________\n",
            "conv2_block3_3_conv (Conv2D)    (None, 64, 64, 256)  16640       conv2_block3_2_relu[0][0]        \n",
            "__________________________________________________________________________________________________\n",
            "conv2_block3_out (Add)          (None, 64, 64, 256)  0           max_pooling2d_18[0][0]           \n",
            "                                                                 conv2_block3_3_conv[0][0]        \n",
            "__________________________________________________________________________________________________\n",
            "conv3_block1_preact_bn (BatchNo (None, 64, 64, 256)  1024        conv2_block3_out[0][0]           \n",
            "__________________________________________________________________________________________________\n",
            "conv3_block1_preact_relu (Activ (None, 64, 64, 256)  0           conv3_block1_preact_bn[0][0]     \n",
            "__________________________________________________________________________________________________\n",
            "conv3_block1_1_conv (Conv2D)    (None, 64, 64, 128)  32768       conv3_block1_preact_relu[0][0]   \n",
            "__________________________________________________________________________________________________\n",
            "conv3_block1_1_bn (BatchNormali (None, 64, 64, 128)  512         conv3_block1_1_conv[0][0]        \n",
            "__________________________________________________________________________________________________\n",
            "conv3_block1_1_relu (Activation (None, 64, 64, 128)  0           conv3_block1_1_bn[0][0]          \n",
            "__________________________________________________________________________________________________\n",
            "conv3_block1_2_pad (ZeroPadding (None, 66, 66, 128)  0           conv3_block1_1_relu[0][0]        \n",
            "__________________________________________________________________________________________________\n",
            "conv3_block1_2_conv (Conv2D)    (None, 64, 64, 128)  147456      conv3_block1_2_pad[0][0]         \n",
            "__________________________________________________________________________________________________\n",
            "conv3_block1_2_bn (BatchNormali (None, 64, 64, 128)  512         conv3_block1_2_conv[0][0]        \n",
            "__________________________________________________________________________________________________\n",
            "conv3_block1_2_relu (Activation (None, 64, 64, 128)  0           conv3_block1_2_bn[0][0]          \n",
            "__________________________________________________________________________________________________\n",
            "conv3_block1_0_conv (Conv2D)    (None, 64, 64, 512)  131584      conv3_block1_preact_relu[0][0]   \n",
            "__________________________________________________________________________________________________\n",
            "conv3_block1_3_conv (Conv2D)    (None, 64, 64, 512)  66048       conv3_block1_2_relu[0][0]        \n",
            "__________________________________________________________________________________________________\n",
            "conv3_block1_out (Add)          (None, 64, 64, 512)  0           conv3_block1_0_conv[0][0]        \n",
            "                                                                 conv3_block1_3_conv[0][0]        \n",
            "__________________________________________________________________________________________________\n",
            "conv3_block2_preact_bn (BatchNo (None, 64, 64, 512)  2048        conv3_block1_out[0][0]           \n",
            "__________________________________________________________________________________________________\n",
            "conv3_block2_preact_relu (Activ (None, 64, 64, 512)  0           conv3_block2_preact_bn[0][0]     \n",
            "__________________________________________________________________________________________________\n",
            "conv3_block2_1_conv (Conv2D)    (None, 64, 64, 128)  65536       conv3_block2_preact_relu[0][0]   \n",
            "__________________________________________________________________________________________________\n",
            "conv3_block2_1_bn (BatchNormali (None, 64, 64, 128)  512         conv3_block2_1_conv[0][0]        \n",
            "__________________________________________________________________________________________________\n",
            "conv3_block2_1_relu (Activation (None, 64, 64, 128)  0           conv3_block2_1_bn[0][0]          \n",
            "__________________________________________________________________________________________________\n",
            "conv3_block2_2_pad (ZeroPadding (None, 66, 66, 128)  0           conv3_block2_1_relu[0][0]        \n",
            "__________________________________________________________________________________________________\n",
            "conv3_block2_2_conv (Conv2D)    (None, 64, 64, 128)  147456      conv3_block2_2_pad[0][0]         \n",
            "__________________________________________________________________________________________________\n",
            "conv3_block2_2_bn (BatchNormali (None, 64, 64, 128)  512         conv3_block2_2_conv[0][0]        \n",
            "__________________________________________________________________________________________________\n",
            "conv3_block2_2_relu (Activation (None, 64, 64, 128)  0           conv3_block2_2_bn[0][0]          \n",
            "__________________________________________________________________________________________________\n",
            "conv3_block2_3_conv (Conv2D)    (None, 64, 64, 512)  66048       conv3_block2_2_relu[0][0]        \n",
            "__________________________________________________________________________________________________\n",
            "conv3_block2_out (Add)          (None, 64, 64, 512)  0           conv3_block1_out[0][0]           \n",
            "                                                                 conv3_block2_3_conv[0][0]        \n",
            "__________________________________________________________________________________________________\n",
            "conv3_block3_preact_bn (BatchNo (None, 64, 64, 512)  2048        conv3_block2_out[0][0]           \n",
            "__________________________________________________________________________________________________\n",
            "conv3_block3_preact_relu (Activ (None, 64, 64, 512)  0           conv3_block3_preact_bn[0][0]     \n",
            "__________________________________________________________________________________________________\n",
            "conv3_block3_1_conv (Conv2D)    (None, 64, 64, 128)  65536       conv3_block3_preact_relu[0][0]   \n",
            "__________________________________________________________________________________________________\n",
            "conv3_block3_1_bn (BatchNormali (None, 64, 64, 128)  512         conv3_block3_1_conv[0][0]        \n",
            "__________________________________________________________________________________________________\n",
            "conv3_block3_1_relu (Activation (None, 64, 64, 128)  0           conv3_block3_1_bn[0][0]          \n",
            "__________________________________________________________________________________________________\n",
            "conv3_block3_2_pad (ZeroPadding (None, 66, 66, 128)  0           conv3_block3_1_relu[0][0]        \n",
            "__________________________________________________________________________________________________\n",
            "conv3_block3_2_conv (Conv2D)    (None, 64, 64, 128)  147456      conv3_block3_2_pad[0][0]         \n",
            "__________________________________________________________________________________________________\n",
            "conv3_block3_2_bn (BatchNormali (None, 64, 64, 128)  512         conv3_block3_2_conv[0][0]        \n",
            "__________________________________________________________________________________________________\n",
            "conv3_block3_2_relu (Activation (None, 64, 64, 128)  0           conv3_block3_2_bn[0][0]          \n",
            "__________________________________________________________________________________________________\n",
            "conv3_block3_3_conv (Conv2D)    (None, 64, 64, 512)  66048       conv3_block3_2_relu[0][0]        \n",
            "__________________________________________________________________________________________________\n",
            "conv3_block3_out (Add)          (None, 64, 64, 512)  0           conv3_block2_out[0][0]           \n",
            "                                                                 conv3_block3_3_conv[0][0]        \n",
            "__________________________________________________________________________________________________\n",
            "conv3_block4_preact_bn (BatchNo (None, 64, 64, 512)  2048        conv3_block3_out[0][0]           \n",
            "__________________________________________________________________________________________________\n",
            "conv3_block4_preact_relu (Activ (None, 64, 64, 512)  0           conv3_block4_preact_bn[0][0]     \n",
            "__________________________________________________________________________________________________\n",
            "conv3_block4_1_conv (Conv2D)    (None, 64, 64, 128)  65536       conv3_block4_preact_relu[0][0]   \n",
            "__________________________________________________________________________________________________\n",
            "conv3_block4_1_bn (BatchNormali (None, 64, 64, 128)  512         conv3_block4_1_conv[0][0]        \n",
            "__________________________________________________________________________________________________\n",
            "conv3_block4_1_relu (Activation (None, 64, 64, 128)  0           conv3_block4_1_bn[0][0]          \n",
            "__________________________________________________________________________________________________\n",
            "conv3_block4_2_pad (ZeroPadding (None, 66, 66, 128)  0           conv3_block4_1_relu[0][0]        \n",
            "__________________________________________________________________________________________________\n",
            "conv3_block4_2_conv (Conv2D)    (None, 32, 32, 128)  147456      conv3_block4_2_pad[0][0]         \n",
            "__________________________________________________________________________________________________\n",
            "conv3_block4_2_bn (BatchNormali (None, 32, 32, 128)  512         conv3_block4_2_conv[0][0]        \n",
            "__________________________________________________________________________________________________\n",
            "conv3_block4_2_relu (Activation (None, 32, 32, 128)  0           conv3_block4_2_bn[0][0]          \n",
            "__________________________________________________________________________________________________\n",
            "max_pooling2d_19 (MaxPooling2D) (None, 32, 32, 512)  0           conv3_block3_out[0][0]           \n",
            "__________________________________________________________________________________________________\n",
            "conv3_block4_3_conv (Conv2D)    (None, 32, 32, 512)  66048       conv3_block4_2_relu[0][0]        \n",
            "__________________________________________________________________________________________________\n",
            "conv3_block4_out (Add)          (None, 32, 32, 512)  0           max_pooling2d_19[0][0]           \n",
            "                                                                 conv3_block4_3_conv[0][0]        \n",
            "__________________________________________________________________________________________________\n",
            "conv4_block1_preact_bn (BatchNo (None, 32, 32, 512)  2048        conv3_block4_out[0][0]           \n",
            "__________________________________________________________________________________________________\n",
            "conv4_block1_preact_relu (Activ (None, 32, 32, 512)  0           conv4_block1_preact_bn[0][0]     \n",
            "__________________________________________________________________________________________________\n",
            "conv4_block1_1_conv (Conv2D)    (None, 32, 32, 256)  131072      conv4_block1_preact_relu[0][0]   \n",
            "__________________________________________________________________________________________________\n",
            "conv4_block1_1_bn (BatchNormali (None, 32, 32, 256)  1024        conv4_block1_1_conv[0][0]        \n",
            "__________________________________________________________________________________________________\n",
            "conv4_block1_1_relu (Activation (None, 32, 32, 256)  0           conv4_block1_1_bn[0][0]          \n",
            "__________________________________________________________________________________________________\n",
            "conv4_block1_2_pad (ZeroPadding (None, 34, 34, 256)  0           conv4_block1_1_relu[0][0]        \n",
            "__________________________________________________________________________________________________\n",
            "conv4_block1_2_conv (Conv2D)    (None, 32, 32, 256)  589824      conv4_block1_2_pad[0][0]         \n",
            "__________________________________________________________________________________________________\n",
            "conv4_block1_2_bn (BatchNormali (None, 32, 32, 256)  1024        conv4_block1_2_conv[0][0]        \n",
            "__________________________________________________________________________________________________\n",
            "conv4_block1_2_relu (Activation (None, 32, 32, 256)  0           conv4_block1_2_bn[0][0]          \n",
            "__________________________________________________________________________________________________\n",
            "conv4_block1_0_conv (Conv2D)    (None, 32, 32, 1024) 525312      conv4_block1_preact_relu[0][0]   \n",
            "__________________________________________________________________________________________________\n",
            "conv4_block1_3_conv (Conv2D)    (None, 32, 32, 1024) 263168      conv4_block1_2_relu[0][0]        \n",
            "__________________________________________________________________________________________________\n",
            "conv4_block1_out (Add)          (None, 32, 32, 1024) 0           conv4_block1_0_conv[0][0]        \n",
            "                                                                 conv4_block1_3_conv[0][0]        \n",
            "__________________________________________________________________________________________________\n",
            "conv4_block2_preact_bn (BatchNo (None, 32, 32, 1024) 4096        conv4_block1_out[0][0]           \n",
            "__________________________________________________________________________________________________\n",
            "conv4_block2_preact_relu (Activ (None, 32, 32, 1024) 0           conv4_block2_preact_bn[0][0]     \n",
            "__________________________________________________________________________________________________\n",
            "conv4_block2_1_conv (Conv2D)    (None, 32, 32, 256)  262144      conv4_block2_preact_relu[0][0]   \n",
            "__________________________________________________________________________________________________\n",
            "conv4_block2_1_bn (BatchNormali (None, 32, 32, 256)  1024        conv4_block2_1_conv[0][0]        \n",
            "__________________________________________________________________________________________________\n",
            "conv4_block2_1_relu (Activation (None, 32, 32, 256)  0           conv4_block2_1_bn[0][0]          \n",
            "__________________________________________________________________________________________________\n",
            "conv4_block2_2_pad (ZeroPadding (None, 34, 34, 256)  0           conv4_block2_1_relu[0][0]        \n",
            "__________________________________________________________________________________________________\n",
            "conv4_block2_2_conv (Conv2D)    (None, 32, 32, 256)  589824      conv4_block2_2_pad[0][0]         \n",
            "__________________________________________________________________________________________________\n",
            "conv4_block2_2_bn (BatchNormali (None, 32, 32, 256)  1024        conv4_block2_2_conv[0][0]        \n",
            "__________________________________________________________________________________________________\n",
            "conv4_block2_2_relu (Activation (None, 32, 32, 256)  0           conv4_block2_2_bn[0][0]          \n",
            "__________________________________________________________________________________________________\n",
            "conv4_block2_3_conv (Conv2D)    (None, 32, 32, 1024) 263168      conv4_block2_2_relu[0][0]        \n",
            "__________________________________________________________________________________________________\n",
            "conv4_block2_out (Add)          (None, 32, 32, 1024) 0           conv4_block1_out[0][0]           \n",
            "                                                                 conv4_block2_3_conv[0][0]        \n",
            "__________________________________________________________________________________________________\n",
            "conv4_block3_preact_bn (BatchNo (None, 32, 32, 1024) 4096        conv4_block2_out[0][0]           \n",
            "__________________________________________________________________________________________________\n",
            "conv4_block3_preact_relu (Activ (None, 32, 32, 1024) 0           conv4_block3_preact_bn[0][0]     \n",
            "__________________________________________________________________________________________________\n",
            "conv4_block3_1_conv (Conv2D)    (None, 32, 32, 256)  262144      conv4_block3_preact_relu[0][0]   \n",
            "__________________________________________________________________________________________________\n",
            "conv4_block3_1_bn (BatchNormali (None, 32, 32, 256)  1024        conv4_block3_1_conv[0][0]        \n",
            "__________________________________________________________________________________________________\n",
            "conv4_block3_1_relu (Activation (None, 32, 32, 256)  0           conv4_block3_1_bn[0][0]          \n",
            "__________________________________________________________________________________________________\n",
            "conv4_block3_2_pad (ZeroPadding (None, 34, 34, 256)  0           conv4_block3_1_relu[0][0]        \n",
            "__________________________________________________________________________________________________\n",
            "conv4_block3_2_conv (Conv2D)    (None, 32, 32, 256)  589824      conv4_block3_2_pad[0][0]         \n",
            "__________________________________________________________________________________________________\n",
            "conv4_block3_2_bn (BatchNormali (None, 32, 32, 256)  1024        conv4_block3_2_conv[0][0]        \n",
            "__________________________________________________________________________________________________\n",
            "conv4_block3_2_relu (Activation (None, 32, 32, 256)  0           conv4_block3_2_bn[0][0]          \n",
            "__________________________________________________________________________________________________\n",
            "conv4_block3_3_conv (Conv2D)    (None, 32, 32, 1024) 263168      conv4_block3_2_relu[0][0]        \n",
            "__________________________________________________________________________________________________\n",
            "conv4_block3_out (Add)          (None, 32, 32, 1024) 0           conv4_block2_out[0][0]           \n",
            "                                                                 conv4_block3_3_conv[0][0]        \n",
            "__________________________________________________________________________________________________\n",
            "conv4_block4_preact_bn (BatchNo (None, 32, 32, 1024) 4096        conv4_block3_out[0][0]           \n",
            "__________________________________________________________________________________________________\n",
            "conv4_block4_preact_relu (Activ (None, 32, 32, 1024) 0           conv4_block4_preact_bn[0][0]     \n",
            "__________________________________________________________________________________________________\n",
            "conv4_block4_1_conv (Conv2D)    (None, 32, 32, 256)  262144      conv4_block4_preact_relu[0][0]   \n",
            "__________________________________________________________________________________________________\n",
            "conv4_block4_1_bn (BatchNormali (None, 32, 32, 256)  1024        conv4_block4_1_conv[0][0]        \n",
            "__________________________________________________________________________________________________\n",
            "conv4_block4_1_relu (Activation (None, 32, 32, 256)  0           conv4_block4_1_bn[0][0]          \n",
            "__________________________________________________________________________________________________\n",
            "conv4_block4_2_pad (ZeroPadding (None, 34, 34, 256)  0           conv4_block4_1_relu[0][0]        \n",
            "__________________________________________________________________________________________________\n",
            "conv4_block4_2_conv (Conv2D)    (None, 32, 32, 256)  589824      conv4_block4_2_pad[0][0]         \n",
            "__________________________________________________________________________________________________\n",
            "conv4_block4_2_bn (BatchNormali (None, 32, 32, 256)  1024        conv4_block4_2_conv[0][0]        \n",
            "__________________________________________________________________________________________________\n",
            "conv4_block4_2_relu (Activation (None, 32, 32, 256)  0           conv4_block4_2_bn[0][0]          \n",
            "__________________________________________________________________________________________________\n",
            "conv4_block4_3_conv (Conv2D)    (None, 32, 32, 1024) 263168      conv4_block4_2_relu[0][0]        \n",
            "__________________________________________________________________________________________________\n",
            "conv4_block4_out (Add)          (None, 32, 32, 1024) 0           conv4_block3_out[0][0]           \n",
            "                                                                 conv4_block4_3_conv[0][0]        \n",
            "__________________________________________________________________________________________________\n",
            "conv4_block5_preact_bn (BatchNo (None, 32, 32, 1024) 4096        conv4_block4_out[0][0]           \n",
            "__________________________________________________________________________________________________\n",
            "conv4_block5_preact_relu (Activ (None, 32, 32, 1024) 0           conv4_block5_preact_bn[0][0]     \n",
            "__________________________________________________________________________________________________\n",
            "conv4_block5_1_conv (Conv2D)    (None, 32, 32, 256)  262144      conv4_block5_preact_relu[0][0]   \n",
            "__________________________________________________________________________________________________\n",
            "conv4_block5_1_bn (BatchNormali (None, 32, 32, 256)  1024        conv4_block5_1_conv[0][0]        \n",
            "__________________________________________________________________________________________________\n",
            "conv4_block5_1_relu (Activation (None, 32, 32, 256)  0           conv4_block5_1_bn[0][0]          \n",
            "__________________________________________________________________________________________________\n",
            "conv4_block5_2_pad (ZeroPadding (None, 34, 34, 256)  0           conv4_block5_1_relu[0][0]        \n",
            "__________________________________________________________________________________________________\n",
            "conv4_block5_2_conv (Conv2D)    (None, 32, 32, 256)  589824      conv4_block5_2_pad[0][0]         \n",
            "__________________________________________________________________________________________________\n",
            "conv4_block5_2_bn (BatchNormali (None, 32, 32, 256)  1024        conv4_block5_2_conv[0][0]        \n",
            "__________________________________________________________________________________________________\n",
            "conv4_block5_2_relu (Activation (None, 32, 32, 256)  0           conv4_block5_2_bn[0][0]          \n",
            "__________________________________________________________________________________________________\n",
            "conv4_block5_3_conv (Conv2D)    (None, 32, 32, 1024) 263168      conv4_block5_2_relu[0][0]        \n",
            "__________________________________________________________________________________________________\n",
            "conv4_block5_out (Add)          (None, 32, 32, 1024) 0           conv4_block4_out[0][0]           \n",
            "                                                                 conv4_block5_3_conv[0][0]        \n",
            "__________________________________________________________________________________________________\n",
            "conv4_block6_preact_bn (BatchNo (None, 32, 32, 1024) 4096        conv4_block5_out[0][0]           \n",
            "__________________________________________________________________________________________________\n",
            "conv4_block6_preact_relu (Activ (None, 32, 32, 1024) 0           conv4_block6_preact_bn[0][0]     \n",
            "__________________________________________________________________________________________________\n",
            "conv4_block6_1_conv (Conv2D)    (None, 32, 32, 256)  262144      conv4_block6_preact_relu[0][0]   \n",
            "__________________________________________________________________________________________________\n",
            "conv4_block6_1_bn (BatchNormali (None, 32, 32, 256)  1024        conv4_block6_1_conv[0][0]        \n",
            "__________________________________________________________________________________________________\n",
            "conv4_block6_1_relu (Activation (None, 32, 32, 256)  0           conv4_block6_1_bn[0][0]          \n",
            "__________________________________________________________________________________________________\n",
            "conv4_block6_2_pad (ZeroPadding (None, 34, 34, 256)  0           conv4_block6_1_relu[0][0]        \n",
            "__________________________________________________________________________________________________\n",
            "conv4_block6_2_conv (Conv2D)    (None, 16, 16, 256)  589824      conv4_block6_2_pad[0][0]         \n",
            "__________________________________________________________________________________________________\n",
            "conv4_block6_2_bn (BatchNormali (None, 16, 16, 256)  1024        conv4_block6_2_conv[0][0]        \n",
            "__________________________________________________________________________________________________\n",
            "conv4_block6_2_relu (Activation (None, 16, 16, 256)  0           conv4_block6_2_bn[0][0]          \n",
            "__________________________________________________________________________________________________\n",
            "max_pooling2d_20 (MaxPooling2D) (None, 16, 16, 1024) 0           conv4_block5_out[0][0]           \n",
            "__________________________________________________________________________________________________\n",
            "conv4_block6_3_conv (Conv2D)    (None, 16, 16, 1024) 263168      conv4_block6_2_relu[0][0]        \n",
            "__________________________________________________________________________________________________\n",
            "conv4_block6_out (Add)          (None, 16, 16, 1024) 0           max_pooling2d_20[0][0]           \n",
            "                                                                 conv4_block6_3_conv[0][0]        \n",
            "__________________________________________________________________________________________________\n",
            "conv5_block1_preact_bn (BatchNo (None, 16, 16, 1024) 4096        conv4_block6_out[0][0]           \n",
            "__________________________________________________________________________________________________\n",
            "conv5_block1_preact_relu (Activ (None, 16, 16, 1024) 0           conv5_block1_preact_bn[0][0]     \n",
            "__________________________________________________________________________________________________\n",
            "conv5_block1_1_conv (Conv2D)    (None, 16, 16, 512)  524288      conv5_block1_preact_relu[0][0]   \n",
            "__________________________________________________________________________________________________\n",
            "conv5_block1_1_bn (BatchNormali (None, 16, 16, 512)  2048        conv5_block1_1_conv[0][0]        \n",
            "__________________________________________________________________________________________________\n",
            "conv5_block1_1_relu (Activation (None, 16, 16, 512)  0           conv5_block1_1_bn[0][0]          \n",
            "__________________________________________________________________________________________________\n",
            "conv5_block1_2_pad (ZeroPadding (None, 18, 18, 512)  0           conv5_block1_1_relu[0][0]        \n",
            "__________________________________________________________________________________________________\n",
            "conv5_block1_2_conv (Conv2D)    (None, 16, 16, 512)  2359296     conv5_block1_2_pad[0][0]         \n",
            "__________________________________________________________________________________________________\n",
            "conv5_block1_2_bn (BatchNormali (None, 16, 16, 512)  2048        conv5_block1_2_conv[0][0]        \n",
            "__________________________________________________________________________________________________\n",
            "conv5_block1_2_relu (Activation (None, 16, 16, 512)  0           conv5_block1_2_bn[0][0]          \n",
            "__________________________________________________________________________________________________\n",
            "conv5_block1_0_conv (Conv2D)    (None, 16, 16, 2048) 2099200     conv5_block1_preact_relu[0][0]   \n",
            "__________________________________________________________________________________________________\n",
            "conv5_block1_3_conv (Conv2D)    (None, 16, 16, 2048) 1050624     conv5_block1_2_relu[0][0]        \n",
            "__________________________________________________________________________________________________\n",
            "conv5_block1_out (Add)          (None, 16, 16, 2048) 0           conv5_block1_0_conv[0][0]        \n",
            "                                                                 conv5_block1_3_conv[0][0]        \n",
            "__________________________________________________________________________________________________\n",
            "conv5_block2_preact_bn (BatchNo (None, 16, 16, 2048) 8192        conv5_block1_out[0][0]           \n",
            "__________________________________________________________________________________________________\n",
            "conv5_block2_preact_relu (Activ (None, 16, 16, 2048) 0           conv5_block2_preact_bn[0][0]     \n",
            "__________________________________________________________________________________________________\n",
            "conv5_block2_1_conv (Conv2D)    (None, 16, 16, 512)  1048576     conv5_block2_preact_relu[0][0]   \n",
            "__________________________________________________________________________________________________\n",
            "conv5_block2_1_bn (BatchNormali (None, 16, 16, 512)  2048        conv5_block2_1_conv[0][0]        \n",
            "__________________________________________________________________________________________________\n",
            "conv5_block2_1_relu (Activation (None, 16, 16, 512)  0           conv5_block2_1_bn[0][0]          \n",
            "__________________________________________________________________________________________________\n",
            "conv5_block2_2_pad (ZeroPadding (None, 18, 18, 512)  0           conv5_block2_1_relu[0][0]        \n",
            "__________________________________________________________________________________________________\n",
            "conv5_block2_2_conv (Conv2D)    (None, 16, 16, 512)  2359296     conv5_block2_2_pad[0][0]         \n",
            "__________________________________________________________________________________________________\n",
            "conv5_block2_2_bn (BatchNormali (None, 16, 16, 512)  2048        conv5_block2_2_conv[0][0]        \n",
            "__________________________________________________________________________________________________\n",
            "conv5_block2_2_relu (Activation (None, 16, 16, 512)  0           conv5_block2_2_bn[0][0]          \n",
            "__________________________________________________________________________________________________\n",
            "conv5_block2_3_conv (Conv2D)    (None, 16, 16, 2048) 1050624     conv5_block2_2_relu[0][0]        \n",
            "__________________________________________________________________________________________________\n",
            "conv5_block2_out (Add)          (None, 16, 16, 2048) 0           conv5_block1_out[0][0]           \n",
            "                                                                 conv5_block2_3_conv[0][0]        \n",
            "__________________________________________________________________________________________________\n",
            "conv5_block3_preact_bn (BatchNo (None, 16, 16, 2048) 8192        conv5_block2_out[0][0]           \n",
            "__________________________________________________________________________________________________\n",
            "conv5_block3_preact_relu (Activ (None, 16, 16, 2048) 0           conv5_block3_preact_bn[0][0]     \n",
            "__________________________________________________________________________________________________\n",
            "conv5_block3_1_conv (Conv2D)    (None, 16, 16, 512)  1048576     conv5_block3_preact_relu[0][0]   \n",
            "__________________________________________________________________________________________________\n",
            "conv5_block3_1_bn (BatchNormali (None, 16, 16, 512)  2048        conv5_block3_1_conv[0][0]        \n",
            "__________________________________________________________________________________________________\n",
            "conv5_block3_1_relu (Activation (None, 16, 16, 512)  0           conv5_block3_1_bn[0][0]          \n",
            "__________________________________________________________________________________________________\n",
            "conv5_block3_2_pad (ZeroPadding (None, 18, 18, 512)  0           conv5_block3_1_relu[0][0]        \n",
            "__________________________________________________________________________________________________\n",
            "conv5_block3_2_conv (Conv2D)    (None, 16, 16, 512)  2359296     conv5_block3_2_pad[0][0]         \n",
            "__________________________________________________________________________________________________\n",
            "conv5_block3_2_bn (BatchNormali (None, 16, 16, 512)  2048        conv5_block3_2_conv[0][0]        \n",
            "__________________________________________________________________________________________________\n",
            "conv5_block3_2_relu (Activation (None, 16, 16, 512)  0           conv5_block3_2_bn[0][0]          \n",
            "__________________________________________________________________________________________________\n",
            "conv5_block3_3_conv (Conv2D)    (None, 16, 16, 2048) 1050624     conv5_block3_2_relu[0][0]        \n",
            "__________________________________________________________________________________________________\n",
            "conv5_block3_out (Add)          (None, 16, 16, 2048) 0           conv5_block2_out[0][0]           \n",
            "                                                                 conv5_block3_3_conv[0][0]        \n",
            "__________________________________________________________________________________________________\n",
            "post_bn (BatchNormalization)    (None, 16, 16, 2048) 8192        conv5_block3_out[0][0]           \n",
            "__________________________________________________________________________________________________\n",
            "post_relu (Activation)          (None, 16, 16, 2048) 0           post_bn[0][0]                    \n",
            "__________________________________________________________________________________________________\n",
            "global_average_pooling2d_6 (Glo (None, 2048)         0           post_relu[0][0]                  \n",
            "__________________________________________________________________________________________________\n",
            "dense_12 (Dense)                (None, 512)          1049088     global_average_pooling2d_6[0][0] \n",
            "__________________________________________________________________________________________________\n",
            "dropout_6 (Dropout)             (None, 512)          0           dense_12[0][0]                   \n",
            "__________________________________________________________________________________________________\n",
            "dense_13 (Dense)                (None, 5)            2565        dropout_6[0][0]                  \n",
            "==================================================================================================\n",
            "Total params: 24,616,453\n",
            "Trainable params: 1,051,653\n",
            "Non-trainable params: 23,564,800\n",
            "__________________________________________________________________________________________________\n"
          ]
        }
      ]
    },
    {
      "cell_type": "code",
      "metadata": {
        "id": "tqeWub9mIIFw"
      },
      "source": [
        "# class DecayHistory(tf.keras.callbacks.Callback):\n",
        "#     def on_train_begin(self, logs={}):\n",
        "#         self.lr = []\n",
        "#         self.wd = []\n",
        "#     def on_batch_end(self, batch, logs={}):\n",
        "#         self.lr.append(self.model.optimizer.lr(self.model.optimizer.iterations))\n",
        "#         self.wd.append(self.model.optimizer.weight_decay)"
      ],
      "id": "tqeWub9mIIFw",
      "execution_count": null,
      "outputs": []
    },
    {
      "cell_type": "markdown",
      "metadata": {
        "id": "4de1f9f0"
      },
      "source": [
        "## Fit *Kappa Model*"
      ],
      "id": "4de1f9f0"
    },
    {
      "cell_type": "code",
      "metadata": {
        "colab": {
          "base_uri": "https://localhost:8080/",
          "height": 1000
        },
        "id": "Cin090jrIKoe",
        "outputId": "35762e60-341c-4ee1-ad89-876f39a1e5b9"
      },
      "source": [
        " epochs = 100\n",
        "\n",
        "\n",
        "STEP_SIZE_TRAIN=train_generator.n//train_generator.batch_size\n",
        "STEP_SIZE_VALID=valid_generator.n//valid_generator.batch_size\n",
        "STEP_SIZE_TEST=test_generator.n//test_generator.batch_size\n",
        "\n",
        "history = resnet_model_kappa.fit_generator(generator=train_generator,\n",
        "                    steps_per_epoch=STEP_SIZE_TRAIN,\n",
        "                    validation_data=valid_generator,\n",
        "                    validation_steps=STEP_SIZE_VALID,\n",
        "                    epochs=epochs\n",
        ")\n",
        "\n",
        "\n",
        "\n",
        "                    \n",
        "\n",
        "#plot metrics\n",
        "plt.plot(history.history['val_accuracy'])\n",
        "plt.plot(history.history['val_loss'])\n",
        "plt.show()\n",
        "plt.show()"
      ],
      "id": "Cin090jrIKoe",
      "execution_count": null,
      "outputs": [
        {
          "metadata": {
            "tags": null
          },
          "name": "stderr",
          "output_type": "stream",
          "text": [
            "/usr/local/lib/python3.7/dist-packages/keras/engine/training.py:1972: UserWarning: `Model.fit_generator` is deprecated and will be removed in a future version. Please use `Model.fit`, which supports generators.\n",
            "  warnings.warn('`Model.fit_generator` is deprecated and '\n"
          ]
        },
        {
          "output_type": "stream",
          "name": "stdout",
          "text": [
            "Epoch 1/100\n",
            "207/207 [==============================] - 433s 2s/step - loss: 1.0997 - accuracy: 0.5766 - val_loss: 0.9182 - val_accuracy: 0.6336\n",
            "Epoch 2/100\n",
            "207/207 [==============================] - 427s 2s/step - loss: 0.8596 - accuracy: 0.6779 - val_loss: 0.8070 - val_accuracy: 0.6838\n",
            "Epoch 3/100\n",
            "207/207 [==============================] - 427s 2s/step - loss: 0.7846 - accuracy: 0.7006 - val_loss: 0.7613 - val_accuracy: 0.7181\n",
            "Epoch 4/100\n",
            "207/207 [==============================] - 428s 2s/step - loss: 0.7345 - accuracy: 0.7185 - val_loss: 0.7296 - val_accuracy: 0.7255\n",
            "Epoch 5/100\n",
            "207/207 [==============================] - 427s 2s/step - loss: 0.7119 - accuracy: 0.7316 - val_loss: 0.7196 - val_accuracy: 0.7279\n",
            "Epoch 6/100\n",
            "207/207 [==============================] - 426s 2s/step - loss: 0.6972 - accuracy: 0.7349 - val_loss: 0.7241 - val_accuracy: 0.7206\n",
            "Epoch 7/100\n",
            "207/207 [==============================] - 426s 2s/step - loss: 0.6742 - accuracy: 0.7470 - val_loss: 0.6839 - val_accuracy: 0.7304\n",
            "Epoch 8/100\n",
            "207/207 [==============================] - 424s 2s/step - loss: 0.6728 - accuracy: 0.7437 - val_loss: 0.6861 - val_accuracy: 0.7414\n",
            "Epoch 9/100\n",
            "207/207 [==============================] - 427s 2s/step - loss: 0.6636 - accuracy: 0.7437 - val_loss: 0.6816 - val_accuracy: 0.7377\n",
            "Epoch 10/100\n",
            "207/207 [==============================] - 428s 2s/step - loss: 0.6538 - accuracy: 0.7534 - val_loss: 0.6830 - val_accuracy: 0.7353\n",
            "Epoch 11/100\n",
            "207/207 [==============================] - 426s 2s/step - loss: 0.6545 - accuracy: 0.7486 - val_loss: 0.6820 - val_accuracy: 0.7426\n",
            "Epoch 12/100\n",
            "207/207 [==============================] - 426s 2s/step - loss: 0.6423 - accuracy: 0.7610 - val_loss: 0.6716 - val_accuracy: 0.7426\n",
            "Epoch 13/100\n",
            "207/207 [==============================] - 426s 2s/step - loss: 0.6453 - accuracy: 0.7634 - val_loss: 0.6747 - val_accuracy: 0.7402\n",
            "Epoch 14/100\n",
            "207/207 [==============================] - 424s 2s/step - loss: 0.6352 - accuracy: 0.7610 - val_loss: 0.6773 - val_accuracy: 0.7451\n",
            "Epoch 15/100\n",
            "207/207 [==============================] - 424s 2s/step - loss: 0.6274 - accuracy: 0.7658 - val_loss: 0.6787 - val_accuracy: 0.7500\n",
            "Epoch 16/100\n",
            "207/207 [==============================] - 425s 2s/step - loss: 0.6342 - accuracy: 0.7668 - val_loss: 0.6748 - val_accuracy: 0.7414\n",
            "Epoch 17/100\n",
            "207/207 [==============================] - 425s 2s/step - loss: 0.6231 - accuracy: 0.7731 - val_loss: 0.6720 - val_accuracy: 0.7377\n",
            "Epoch 18/100\n",
            "207/207 [==============================] - 426s 2s/step - loss: 0.6318 - accuracy: 0.7592 - val_loss: 0.6691 - val_accuracy: 0.7537\n",
            "Epoch 19/100\n",
            "207/207 [==============================] - 424s 2s/step - loss: 0.6246 - accuracy: 0.7662 - val_loss: 0.6683 - val_accuracy: 0.7463\n",
            "Epoch 20/100\n",
            "207/207 [==============================] - 423s 2s/step - loss: 0.6311 - accuracy: 0.7658 - val_loss: 0.6690 - val_accuracy: 0.7475\n",
            "Epoch 21/100\n",
            "207/207 [==============================] - 424s 2s/step - loss: 0.6306 - accuracy: 0.7616 - val_loss: 0.6655 - val_accuracy: 0.7451\n",
            "Epoch 22/100\n",
            "207/207 [==============================] - 423s 2s/step - loss: 0.6286 - accuracy: 0.7734 - val_loss: 0.6708 - val_accuracy: 0.7463\n",
            "Epoch 23/100\n",
            "207/207 [==============================] - 420s 2s/step - loss: 0.6299 - accuracy: 0.7586 - val_loss: 0.6683 - val_accuracy: 0.7451\n",
            "Epoch 24/100\n",
            "207/207 [==============================] - 417s 2s/step - loss: 0.6248 - accuracy: 0.7695 - val_loss: 0.6700 - val_accuracy: 0.7439\n",
            "Epoch 25/100\n",
            "207/207 [==============================] - 413s 2s/step - loss: 0.6303 - accuracy: 0.7646 - val_loss: 0.6688 - val_accuracy: 0.7451\n",
            "Epoch 26/100\n",
            "207/207 [==============================] - 411s 2s/step - loss: 0.6218 - accuracy: 0.7725 - val_loss: 0.6683 - val_accuracy: 0.7463\n",
            "Epoch 27/100\n",
            "207/207 [==============================] - 410s 2s/step - loss: 0.6314 - accuracy: 0.7613 - val_loss: 0.6705 - val_accuracy: 0.7426\n",
            "Epoch 28/100\n",
            "207/207 [==============================] - 418s 2s/step - loss: 0.6248 - accuracy: 0.7671 - val_loss: 0.6720 - val_accuracy: 0.7426\n",
            "Epoch 29/100\n",
            "207/207 [==============================] - 423s 2s/step - loss: 0.6252 - accuracy: 0.7683 - val_loss: 0.6699 - val_accuracy: 0.7439\n",
            "Epoch 30/100\n",
            "207/207 [==============================] - 421s 2s/step - loss: 0.6208 - accuracy: 0.7740 - val_loss: 0.6698 - val_accuracy: 0.7426\n",
            "Epoch 31/100\n",
            "207/207 [==============================] - 420s 2s/step - loss: 0.6285 - accuracy: 0.7616 - val_loss: 0.6670 - val_accuracy: 0.7451\n",
            "Epoch 32/100\n",
            "207/207 [==============================] - 414s 2s/step - loss: 0.6146 - accuracy: 0.7737 - val_loss: 0.6722 - val_accuracy: 0.7426\n",
            "Epoch 33/100\n",
            "207/207 [==============================] - 413s 2s/step - loss: 0.6249 - accuracy: 0.7689 - val_loss: 0.6686 - val_accuracy: 0.7426\n",
            "Epoch 34/100\n",
            "207/207 [==============================] - 415s 2s/step - loss: 0.6208 - accuracy: 0.7655 - val_loss: 0.6632 - val_accuracy: 0.7463\n",
            "Epoch 35/100\n",
            "207/207 [==============================] - 414s 2s/step - loss: 0.6276 - accuracy: 0.7707 - val_loss: 0.6683 - val_accuracy: 0.7426\n",
            "Epoch 36/100\n",
            "207/207 [==============================] - 417s 2s/step - loss: 0.6242 - accuracy: 0.7649 - val_loss: 0.6685 - val_accuracy: 0.7451\n",
            "Epoch 37/100\n",
            "207/207 [==============================] - 419s 2s/step - loss: 0.6181 - accuracy: 0.7725 - val_loss: 0.6697 - val_accuracy: 0.7426\n",
            "Epoch 38/100\n",
            "207/207 [==============================] - 421s 2s/step - loss: 0.6233 - accuracy: 0.7674 - val_loss: 0.6708 - val_accuracy: 0.7402\n",
            "Epoch 39/100\n",
            "207/207 [==============================] - 418s 2s/step - loss: 0.6326 - accuracy: 0.7668 - val_loss: 0.6654 - val_accuracy: 0.7463\n",
            "Epoch 40/100\n",
            "207/207 [==============================] - 417s 2s/step - loss: 0.6300 - accuracy: 0.7692 - val_loss: 0.6674 - val_accuracy: 0.7439\n",
            "Epoch 41/100\n",
            "207/207 [==============================] - 416s 2s/step - loss: 0.6352 - accuracy: 0.7649 - val_loss: 0.6694 - val_accuracy: 0.7414\n",
            "Epoch 42/100\n",
            "207/207 [==============================] - 417s 2s/step - loss: 0.6187 - accuracy: 0.7665 - val_loss: 0.6607 - val_accuracy: 0.7475\n",
            "Epoch 43/100\n",
            "207/207 [==============================] - 417s 2s/step - loss: 0.6315 - accuracy: 0.7746 - val_loss: 0.6643 - val_accuracy: 0.7451\n",
            "Epoch 44/100\n",
            "207/207 [==============================] - 420s 2s/step - loss: 0.6311 - accuracy: 0.7671 - val_loss: 0.6659 - val_accuracy: 0.7439\n",
            "Epoch 45/100\n",
            "207/207 [==============================] - 416s 2s/step - loss: 0.6235 - accuracy: 0.7628 - val_loss: 0.6645 - val_accuracy: 0.7451\n",
            "Epoch 46/100\n",
            "207/207 [==============================] - 415s 2s/step - loss: 0.6131 - accuracy: 0.7746 - val_loss: 0.6673 - val_accuracy: 0.7439\n",
            "Epoch 47/100\n",
            "207/207 [==============================] - 415s 2s/step - loss: 0.6249 - accuracy: 0.7646 - val_loss: 0.6678 - val_accuracy: 0.7451\n",
            "Epoch 48/100\n",
            "207/207 [==============================] - 414s 2s/step - loss: 0.6190 - accuracy: 0.7734 - val_loss: 0.6719 - val_accuracy: 0.7414\n",
            "Epoch 49/100\n",
            "207/207 [==============================] - 419s 2s/step - loss: 0.6254 - accuracy: 0.7571 - val_loss: 0.6659 - val_accuracy: 0.7451\n",
            "Epoch 50/100\n",
            "207/207 [==============================] - 415s 2s/step - loss: 0.6227 - accuracy: 0.7643 - val_loss: 0.6671 - val_accuracy: 0.7426\n",
            "Epoch 51/100\n",
            "207/207 [==============================] - 411s 2s/step - loss: 0.6233 - accuracy: 0.7668 - val_loss: 0.6692 - val_accuracy: 0.7414\n",
            "Epoch 52/100\n",
            "207/207 [==============================] - 413s 2s/step - loss: 0.6296 - accuracy: 0.7710 - val_loss: 0.6686 - val_accuracy: 0.7451\n",
            "Epoch 53/100\n",
            "207/207 [==============================] - 412s 2s/step - loss: 0.6248 - accuracy: 0.7646 - val_loss: 0.6646 - val_accuracy: 0.7451\n",
            "Epoch 54/100\n",
            "207/207 [==============================] - 413s 2s/step - loss: 0.6189 - accuracy: 0.7658 - val_loss: 0.6647 - val_accuracy: 0.7451\n",
            "Epoch 55/100\n",
            "207/207 [==============================] - 414s 2s/step - loss: 0.6340 - accuracy: 0.7628 - val_loss: 0.6643 - val_accuracy: 0.7463\n",
            "Epoch 56/100\n",
            "207/207 [==============================] - 418s 2s/step - loss: 0.6337 - accuracy: 0.7622 - val_loss: 0.6693 - val_accuracy: 0.7439\n",
            "Epoch 57/100\n",
            "207/207 [==============================] - 419s 2s/step - loss: 0.6267 - accuracy: 0.7622 - val_loss: 0.6666 - val_accuracy: 0.7426\n",
            "Epoch 58/100\n",
            "207/207 [==============================] - 422s 2s/step - loss: 0.6180 - accuracy: 0.7749 - val_loss: 0.6641 - val_accuracy: 0.7451\n",
            "Epoch 59/100\n",
            "207/207 [==============================] - 425s 2s/step - loss: 0.6292 - accuracy: 0.7665 - val_loss: 0.6662 - val_accuracy: 0.7439\n",
            "Epoch 60/100\n",
            "207/207 [==============================] - 423s 2s/step - loss: 0.6225 - accuracy: 0.7722 - val_loss: 0.6698 - val_accuracy: 0.7426\n",
            "Epoch 61/100\n",
            "207/207 [==============================] - 423s 2s/step - loss: 0.6305 - accuracy: 0.7680 - val_loss: 0.6627 - val_accuracy: 0.7475\n",
            "Epoch 62/100\n",
            "207/207 [==============================] - 419s 2s/step - loss: 0.6205 - accuracy: 0.7668 - val_loss: 0.6694 - val_accuracy: 0.7426\n",
            "Epoch 63/100\n",
            "207/207 [==============================] - 421s 2s/step - loss: 0.6236 - accuracy: 0.7646 - val_loss: 0.6702 - val_accuracy: 0.7414\n",
            "Epoch 64/100\n",
            "207/207 [==============================] - 419s 2s/step - loss: 0.6235 - accuracy: 0.7674 - val_loss: 0.6634 - val_accuracy: 0.7488\n",
            "Epoch 65/100\n",
            "207/207 [==============================] - 417s 2s/step - loss: 0.6321 - accuracy: 0.7631 - val_loss: 0.6684 - val_accuracy: 0.7439\n",
            "Epoch 66/100\n",
            "207/207 [==============================] - 418s 2s/step - loss: 0.6248 - accuracy: 0.7665 - val_loss: 0.6691 - val_accuracy: 0.7439\n",
            "Epoch 67/100\n",
            "207/207 [==============================] - 415s 2s/step - loss: 0.6283 - accuracy: 0.7655 - val_loss: 0.6648 - val_accuracy: 0.7451\n",
            "Epoch 68/100\n",
            "207/207 [==============================] - 418s 2s/step - loss: 0.6259 - accuracy: 0.7668 - val_loss: 0.6701 - val_accuracy: 0.7439\n",
            "Epoch 69/100\n",
            "207/207 [==============================] - 423s 2s/step - loss: 0.6270 - accuracy: 0.7662 - val_loss: 0.6713 - val_accuracy: 0.7414\n",
            "Epoch 70/100\n",
            "207/207 [==============================] - 421s 2s/step - loss: 0.6302 - accuracy: 0.7646 - val_loss: 0.6716 - val_accuracy: 0.7414\n",
            "Epoch 71/100\n",
            "207/207 [==============================] - 423s 2s/step - loss: 0.6221 - accuracy: 0.7668 - val_loss: 0.6697 - val_accuracy: 0.7451\n",
            "Epoch 72/100\n",
            "207/207 [==============================] - 418s 2s/step - loss: 0.6256 - accuracy: 0.7713 - val_loss: 0.6686 - val_accuracy: 0.7414\n",
            "Epoch 73/100\n",
            "207/207 [==============================] - 419s 2s/step - loss: 0.6255 - accuracy: 0.7722 - val_loss: 0.6682 - val_accuracy: 0.7414\n",
            "Epoch 74/100\n",
            "207/207 [==============================] - 422s 2s/step - loss: 0.6251 - accuracy: 0.7704 - val_loss: 0.6689 - val_accuracy: 0.7426\n",
            "Epoch 75/100\n",
            "207/207 [==============================] - 422s 2s/step - loss: 0.6288 - accuracy: 0.7610 - val_loss: 0.6708 - val_accuracy: 0.7414\n",
            "Epoch 76/100\n",
            "207/207 [==============================] - 422s 2s/step - loss: 0.6257 - accuracy: 0.7662 - val_loss: 0.6667 - val_accuracy: 0.7439\n",
            "Epoch 77/100\n",
            "207/207 [==============================] - 419s 2s/step - loss: 0.6273 - accuracy: 0.7649 - val_loss: 0.6685 - val_accuracy: 0.7426\n",
            "Epoch 78/100\n",
            "207/207 [==============================] - 425s 2s/step - loss: 0.6235 - accuracy: 0.7695 - val_loss: 0.6691 - val_accuracy: 0.7451\n",
            "Epoch 79/100\n",
            "207/207 [==============================] - 423s 2s/step - loss: 0.6318 - accuracy: 0.7643 - val_loss: 0.6687 - val_accuracy: 0.7451\n",
            "Epoch 80/100\n",
            "207/207 [==============================] - 427s 2s/step - loss: 0.6217 - accuracy: 0.7701 - val_loss: 0.6714 - val_accuracy: 0.7414\n",
            "Epoch 81/100\n",
            "207/207 [==============================] - 425s 2s/step - loss: 0.6196 - accuracy: 0.7731 - val_loss: 0.6668 - val_accuracy: 0.7451\n",
            "Epoch 82/100\n",
            "207/207 [==============================] - 425s 2s/step - loss: 0.6230 - accuracy: 0.7643 - val_loss: 0.6611 - val_accuracy: 0.7475\n",
            "Epoch 83/100\n",
            "207/207 [==============================] - 427s 2s/step - loss: 0.6321 - accuracy: 0.7655 - val_loss: 0.6736 - val_accuracy: 0.7414\n",
            "Epoch 84/100\n",
            "207/207 [==============================] - 427s 2s/step - loss: 0.6194 - accuracy: 0.7734 - val_loss: 0.6674 - val_accuracy: 0.7414\n",
            "Epoch 85/100\n",
            "207/207 [==============================] - 426s 2s/step - loss: 0.6234 - accuracy: 0.7680 - val_loss: 0.6661 - val_accuracy: 0.7439\n",
            "Epoch 86/100\n",
            "207/207 [==============================] - 426s 2s/step - loss: 0.6302 - accuracy: 0.7677 - val_loss: 0.6650 - val_accuracy: 0.7439\n",
            "Epoch 87/100\n",
            "207/207 [==============================] - 427s 2s/step - loss: 0.6250 - accuracy: 0.7662 - val_loss: 0.6646 - val_accuracy: 0.7463\n",
            "Epoch 88/100\n",
            "207/207 [==============================] - 427s 2s/step - loss: 0.6225 - accuracy: 0.7677 - val_loss: 0.6677 - val_accuracy: 0.7414\n",
            "Epoch 89/100\n",
            "207/207 [==============================] - 427s 2s/step - loss: 0.6217 - accuracy: 0.7759 - val_loss: 0.6657 - val_accuracy: 0.7439\n",
            "Epoch 90/100\n",
            "207/207 [==============================] - 427s 2s/step - loss: 0.6291 - accuracy: 0.7637 - val_loss: 0.6673 - val_accuracy: 0.7451\n",
            "Epoch 91/100\n",
            "207/207 [==============================] - 427s 2s/step - loss: 0.6267 - accuracy: 0.7610 - val_loss: 0.6669 - val_accuracy: 0.7439\n",
            "Epoch 92/100\n",
            "207/207 [==============================] - 429s 2s/step - loss: 0.6187 - accuracy: 0.7695 - val_loss: 0.6644 - val_accuracy: 0.7451\n",
            "Epoch 93/100\n",
            "207/207 [==============================] - 427s 2s/step - loss: 0.6309 - accuracy: 0.7577 - val_loss: 0.6636 - val_accuracy: 0.7451\n",
            "Epoch 94/100\n",
            "207/207 [==============================] - 424s 2s/step - loss: 0.6222 - accuracy: 0.7734 - val_loss: 0.6622 - val_accuracy: 0.7475\n",
            "Epoch 95/100\n",
            "207/207 [==============================] - 426s 2s/step - loss: 0.6226 - accuracy: 0.7680 - val_loss: 0.6674 - val_accuracy: 0.7451\n",
            "Epoch 96/100\n",
            "207/207 [==============================] - 427s 2s/step - loss: 0.6296 - accuracy: 0.7674 - val_loss: 0.6662 - val_accuracy: 0.7439\n",
            "Epoch 97/100\n",
            "207/207 [==============================] - 426s 2s/step - loss: 0.6238 - accuracy: 0.7637 - val_loss: 0.6673 - val_accuracy: 0.7463\n",
            "Epoch 98/100\n",
            "207/207 [==============================] - 428s 2s/step - loss: 0.6227 - accuracy: 0.7640 - val_loss: 0.6684 - val_accuracy: 0.7451\n",
            "Epoch 99/100\n",
            "207/207 [==============================] - 426s 2s/step - loss: 0.6191 - accuracy: 0.7683 - val_loss: 0.6687 - val_accuracy: 0.7426\n",
            "Epoch 100/100\n",
            "207/207 [==============================] - 424s 2s/step - loss: 0.6213 - accuracy: 0.7671 - val_loss: 0.6654 - val_accuracy: 0.7451\n"
          ]
        },
        {
          "output_type": "display_data",
          "data": {
            "image/png": "[encoded data removed]",
            "text/plain": [
              "<Figure size 432x288 with 1 Axes>"
            ]
          },
          "metadata": {
            "needs_background": "light"
          }
        }
      ]
    },
    {
      "cell_type": "markdown",
      "metadata": {
        "id": "5fUiaKarJvla"
      },
      "source": [
        "## Let's See how the Kappa-Model performs on the roughly 800 retinal images in our test data that it's never seen before!"
      ],
      "id": "5fUiaKarJvla"
    },
    {
      "cell_type": "code",
      "metadata": {
        "colab": {
          "base_uri": "https://localhost:8080/"
        },
        "id": "jhTfxM6SKAo5",
        "outputId": "93fa4f95-e8f7-4f5f-fbe6-641fd14ef33b"
      },
      "source": [
        "test_loss, test_acc = resnet_model_kappa.evaluate(test_generator, verbose=2)\n",
        "print('\\nTest accuracy:', test_acc)"
      ],
      "id": "jhTfxM6SKAo5",
      "execution_count": null,
      "outputs": [
        {
          "output_type": "stream",
          "name": "stdout",
          "text": [
            "1029/1029 - 64s - loss: 0.7139 - accuracy: 0.7230\n",
            "\n",
            "Test accuracy: 0.7230320572853088\n"
          ]
        }
      ]
    },
    {
      "cell_type": "markdown",
      "metadata": {
        "id": "MEnMh6kmKLpf"
      },
      "source": [
        "## And Here's Kappa-Model's Confusion Matrix"
      ],
      "id": "MEnMh6kmKLpf"
    },
    {
      "cell_type": "code",
      "metadata": {
        "colab": {
          "base_uri": "https://localhost:8080/",
          "height": 296
        },
        "id": "X-dCMGXCKP-e",
        "outputId": "881876be-b94d-4156-8c24-2993f946c822"
      },
      "source": [
        "filenames = test_generator.filenames\n",
        "nb_samples = len(test_generator)\n",
        "y_prob=[]\n",
        "y_act=[]\n",
        "test_generator.reset()\n",
        "for _ in range(nb_samples):\n",
        "  X_test,Y_test = test_generator.next()\n",
        "  y_prob.append(resnet_model_kappa.predict(X_test))\n",
        "  y_act.append(Y_test)\n",
        "\n",
        "predicted_class = [list(train_generator.class_indices.keys())[i.argmax()] for i in y_prob]\n",
        "actual_class = [list(train_generator.class_indices.keys())[i.argmax()] for i in y_act]\n",
        "\n",
        "\n",
        "out_df = pd.DataFrame(np.vstack([predicted_class,actual_class]).T,columns=['predicted_class','actual_class'])\n",
        "confusion_matrix = pd.crosstab(out_df['actual_class'],out_df['predicted_class'], rownames=['Actual'], colnames=['Predicted'])\n",
        "\n",
        "sns.heatmap(confusion_matrix,cmap='Blues', annot=True,fmt='d')\n",
        "plt.show()\n",
        "print('test accuracy : {}'.format((np.diagonal(confusion_matrix).sum()/confusion_matrix.sum().sum()*100)))\n",
        "\n",
        "# thanks to https://github.com/jakkcoder/ResNet50/blob/master/ResNet50.ipynb for the confusion matrix code"
      ],
      "id": "X-dCMGXCKP-e",
      "execution_count": null,
      "outputs": [
        {
          "output_type": "display_data",
          "data": {
            "image/png": "[encoded data removed]",
            "text/plain": [
              "<Figure size 432x288 with 2 Axes>"
            ]
          },
          "metadata": {
            "needs_background": "light"
          }
        },
        {
          "output_type": "stream",
          "name": "stdout",
          "text": [
            "test accuracy : 72.30320699708454\n"
          ]
        }
      ]
    },
    {
      "cell_type": "markdown",
      "metadata": {
        "id": "JvJVEezELDh4"
      },
      "source": [
        "# The Saved ***Kappa-Model***"
      ],
      "id": "JvJVEezELDh4"
    },
    {
      "cell_type": "code",
      "metadata": {
        "colab": {
          "base_uri": "https://localhost:8080/",
          "height": 344
        },
        "id": "xGUMRCVBK6xx",
        "outputId": "b66d683c-a2b3-4734-c60e-2d0b4728dbdc"
      },
      "source": [
        "filepath = './saved_kappa_model.h5'\n",
        "save_model(resnet_model_kappa, filepath, save_format='h5')"
      ],
      "id": "xGUMRCVBK6xx",
      "execution_count": null,
      "outputs": [
        {
          "output_type": "stream",
          "name": "stderr",
          "text": [
            "/usr/local/lib/python3.7/dist-packages/keras/utils/generic_utils.py:497: CustomMaskWarning: Custom mask layers require a config and must override get_config. When loading, the custom mask layer must be passed to the custom_objects argument.\n",
            "  category=CustomMaskWarning)\n"
          ]
        },
        {
          "output_type": "error",
          "ename": "TypeError",
          "evalue": "ignored",
          "traceback": [
            "\u001b[0;31m---------------------------------------------------------------------------\u001b[0m",
            "\u001b[0;31mTypeError\u001b[0m                                 Traceback (most recent call last)",
            "\u001b[0;32m<ipython-input-117-1ad03c201f17>\u001b[0m in \u001b[0;36m<module>\u001b[0;34m()\u001b[0m\n\u001b[1;32m      1\u001b[0m \u001b[0mfilepath\u001b[0m \u001b[0;34m=\u001b[0m \u001b[0;34m'./saved_kappa_model.h5'\u001b[0m\u001b[0;34m\u001b[0m\u001b[0;34m\u001b[0m\u001b[0m\n\u001b[0;32m----> 2\u001b[0;31m \u001b[0msave_model\u001b[0m\u001b[0;34m(\u001b[0m\u001b[0mresnet_model_kappa\u001b[0m\u001b[0;34m,\u001b[0m \u001b[0mfilepath\u001b[0m\u001b[0;34m,\u001b[0m \u001b[0msave_format\u001b[0m\u001b[0;34m=\u001b[0m\u001b[0;34m'h5'\u001b[0m\u001b[0;34m)\u001b[0m\u001b[0;34m\u001b[0m\u001b[0;34m\u001b[0m\u001b[0m\n\u001b[0m",
            "\u001b[0;32m/usr/local/lib/python3.7/dist-packages/keras/saving/save.py\u001b[0m in \u001b[0;36msave_model\u001b[0;34m(model, filepath, overwrite, include_optimizer, save_format, signatures, options, save_traces)\u001b[0m\n\u001b[1;32m    144\u001b[0m           'or using `save_weights`.')\n\u001b[1;32m    145\u001b[0m     hdf5_format.save_model_to_hdf5(\n\u001b[0;32m--> 146\u001b[0;31m         model, filepath, overwrite, include_optimizer)\n\u001b[0m\u001b[1;32m    147\u001b[0m   \u001b[0;32melse\u001b[0m\u001b[0;34m:\u001b[0m\u001b[0;34m\u001b[0m\u001b[0;34m\u001b[0m\u001b[0m\n\u001b[1;32m    148\u001b[0m     \u001b[0;32mwith\u001b[0m \u001b[0mgeneric_utils\u001b[0m\u001b[0;34m.\u001b[0m\u001b[0mSharedObjectSavingScope\u001b[0m\u001b[0;34m(\u001b[0m\u001b[0;34m)\u001b[0m\u001b[0;34m:\u001b[0m\u001b[0;34m\u001b[0m\u001b[0;34m\u001b[0m\u001b[0m\n",
            "\u001b[0;32m/usr/local/lib/python3.7/dist-packages/keras/saving/hdf5_format.py\u001b[0m in \u001b[0;36msave_model_to_hdf5\u001b[0;34m(model, filepath, overwrite, include_optimizer)\u001b[0m\n\u001b[1;32m    112\u001b[0m       \u001b[0;32mif\u001b[0m \u001b[0misinstance\u001b[0m\u001b[0;34m(\u001b[0m\u001b[0mv\u001b[0m\u001b[0;34m,\u001b[0m \u001b[0;34m(\u001b[0m\u001b[0mdict\u001b[0m\u001b[0;34m,\u001b[0m \u001b[0mlist\u001b[0m\u001b[0;34m,\u001b[0m \u001b[0mtuple\u001b[0m\u001b[0;34m)\u001b[0m\u001b[0;34m)\u001b[0m\u001b[0;34m:\u001b[0m\u001b[0;34m\u001b[0m\u001b[0;34m\u001b[0m\u001b[0m\n\u001b[1;32m    113\u001b[0m         f.attrs[k] = json.dumps(\n\u001b[0;32m--> 114\u001b[0;31m             v, default=json_utils.get_json_type).encode('utf8')\n\u001b[0m\u001b[1;32m    115\u001b[0m       \u001b[0;32melse\u001b[0m\u001b[0;34m:\u001b[0m\u001b[0;34m\u001b[0m\u001b[0;34m\u001b[0m\u001b[0m\n\u001b[1;32m    116\u001b[0m         \u001b[0mf\u001b[0m\u001b[0;34m.\u001b[0m\u001b[0mattrs\u001b[0m\u001b[0;34m[\u001b[0m\u001b[0mk\u001b[0m\u001b[0;34m]\u001b[0m \u001b[0;34m=\u001b[0m \u001b[0mv\u001b[0m\u001b[0;34m\u001b[0m\u001b[0;34m\u001b[0m\u001b[0m\n",
            "\u001b[0;32m/usr/lib/python3.7/json/__init__.py\u001b[0m in \u001b[0;36mdumps\u001b[0;34m(obj, skipkeys, ensure_ascii, check_circular, allow_nan, cls, indent, separators, default, sort_keys, **kw)\u001b[0m\n\u001b[1;32m    236\u001b[0m         \u001b[0mcheck_circular\u001b[0m\u001b[0;34m=\u001b[0m\u001b[0mcheck_circular\u001b[0m\u001b[0;34m,\u001b[0m \u001b[0mallow_nan\u001b[0m\u001b[0;34m=\u001b[0m\u001b[0mallow_nan\u001b[0m\u001b[0;34m,\u001b[0m \u001b[0mindent\u001b[0m\u001b[0;34m=\u001b[0m\u001b[0mindent\u001b[0m\u001b[0;34m,\u001b[0m\u001b[0;34m\u001b[0m\u001b[0;34m\u001b[0m\u001b[0m\n\u001b[1;32m    237\u001b[0m         \u001b[0mseparators\u001b[0m\u001b[0;34m=\u001b[0m\u001b[0mseparators\u001b[0m\u001b[0;34m,\u001b[0m \u001b[0mdefault\u001b[0m\u001b[0;34m=\u001b[0m\u001b[0mdefault\u001b[0m\u001b[0;34m,\u001b[0m \u001b[0msort_keys\u001b[0m\u001b[0;34m=\u001b[0m\u001b[0msort_keys\u001b[0m\u001b[0;34m,\u001b[0m\u001b[0;34m\u001b[0m\u001b[0;34m\u001b[0m\u001b[0m\n\u001b[0;32m--> 238\u001b[0;31m         **kw).encode(obj)\n\u001b[0m\u001b[1;32m    239\u001b[0m \u001b[0;34m\u001b[0m\u001b[0m\n\u001b[1;32m    240\u001b[0m \u001b[0;34m\u001b[0m\u001b[0m\n",
            "\u001b[0;32m/usr/lib/python3.7/json/encoder.py\u001b[0m in \u001b[0;36mencode\u001b[0;34m(self, o)\u001b[0m\n\u001b[1;32m    197\u001b[0m         \u001b[0;31m# exceptions aren't as detailed.  The list call should be roughly\u001b[0m\u001b[0;34m\u001b[0m\u001b[0;34m\u001b[0m\u001b[0;34m\u001b[0m\u001b[0m\n\u001b[1;32m    198\u001b[0m         \u001b[0;31m# equivalent to the PySequence_Fast that ''.join() would do.\u001b[0m\u001b[0;34m\u001b[0m\u001b[0;34m\u001b[0m\u001b[0;34m\u001b[0m\u001b[0m\n\u001b[0;32m--> 199\u001b[0;31m         \u001b[0mchunks\u001b[0m \u001b[0;34m=\u001b[0m \u001b[0mself\u001b[0m\u001b[0;34m.\u001b[0m\u001b[0miterencode\u001b[0m\u001b[0;34m(\u001b[0m\u001b[0mo\u001b[0m\u001b[0;34m,\u001b[0m \u001b[0m_one_shot\u001b[0m\u001b[0;34m=\u001b[0m\u001b[0;32mTrue\u001b[0m\u001b[0;34m)\u001b[0m\u001b[0;34m\u001b[0m\u001b[0;34m\u001b[0m\u001b[0m\n\u001b[0m\u001b[1;32m    200\u001b[0m         \u001b[0;32mif\u001b[0m \u001b[0;32mnot\u001b[0m \u001b[0misinstance\u001b[0m\u001b[0;34m(\u001b[0m\u001b[0mchunks\u001b[0m\u001b[0;34m,\u001b[0m \u001b[0;34m(\u001b[0m\u001b[0mlist\u001b[0m\u001b[0;34m,\u001b[0m \u001b[0mtuple\u001b[0m\u001b[0;34m)\u001b[0m\u001b[0;34m)\u001b[0m\u001b[0;34m:\u001b[0m\u001b[0;34m\u001b[0m\u001b[0;34m\u001b[0m\u001b[0m\n\u001b[1;32m    201\u001b[0m             \u001b[0mchunks\u001b[0m \u001b[0;34m=\u001b[0m \u001b[0mlist\u001b[0m\u001b[0;34m(\u001b[0m\u001b[0mchunks\u001b[0m\u001b[0;34m)\u001b[0m\u001b[0;34m\u001b[0m\u001b[0;34m\u001b[0m\u001b[0m\n",
            "\u001b[0;32m/usr/lib/python3.7/json/encoder.py\u001b[0m in \u001b[0;36miterencode\u001b[0;34m(self, o, _one_shot)\u001b[0m\n\u001b[1;32m    255\u001b[0m                 \u001b[0mself\u001b[0m\u001b[0;34m.\u001b[0m\u001b[0mkey_separator\u001b[0m\u001b[0;34m,\u001b[0m \u001b[0mself\u001b[0m\u001b[0;34m.\u001b[0m\u001b[0mitem_separator\u001b[0m\u001b[0;34m,\u001b[0m \u001b[0mself\u001b[0m\u001b[0;34m.\u001b[0m\u001b[0msort_keys\u001b[0m\u001b[0;34m,\u001b[0m\u001b[0;34m\u001b[0m\u001b[0;34m\u001b[0m\u001b[0m\n\u001b[1;32m    256\u001b[0m                 self.skipkeys, _one_shot)\n\u001b[0;32m--> 257\u001b[0;31m         \u001b[0;32mreturn\u001b[0m \u001b[0m_iterencode\u001b[0m\u001b[0;34m(\u001b[0m\u001b[0mo\u001b[0m\u001b[0;34m,\u001b[0m \u001b[0;36m0\u001b[0m\u001b[0;34m)\u001b[0m\u001b[0;34m\u001b[0m\u001b[0;34m\u001b[0m\u001b[0m\n\u001b[0m\u001b[1;32m    258\u001b[0m \u001b[0;34m\u001b[0m\u001b[0m\n\u001b[1;32m    259\u001b[0m def _make_iterencode(markers, _default, _encoder, _indent, _floatstr,\n",
            "\u001b[0;32m/usr/local/lib/python3.7/dist-packages/keras/saving/saved_model/json_utils.py\u001b[0m in \u001b[0;36mget_json_type\u001b[0;34m(obj)\u001b[0m\n\u001b[1;32m    140\u001b[0m     \u001b[0;32mreturn\u001b[0m \u001b[0mobj\u001b[0m\u001b[0;34m.\u001b[0m\u001b[0mvalue\u001b[0m\u001b[0;34m\u001b[0m\u001b[0;34m\u001b[0m\u001b[0m\n\u001b[1;32m    141\u001b[0m \u001b[0;34m\u001b[0m\u001b[0m\n\u001b[0;32m--> 142\u001b[0;31m   \u001b[0;32mraise\u001b[0m \u001b[0mTypeError\u001b[0m\u001b[0;34m(\u001b[0m\u001b[0;34m'Not JSON Serializable:'\u001b[0m\u001b[0;34m,\u001b[0m \u001b[0mobj\u001b[0m\u001b[0;34m)\u001b[0m\u001b[0;34m\u001b[0m\u001b[0;34m\u001b[0m\u001b[0m\n\u001b[0m",
            "\u001b[0;31mTypeError\u001b[0m: ('Not JSON Serializable:', <tf.Tensor: shape=(), dtype=float32, numpy=1.6872024e-14>)"
          ]
        }
      ]
    }
  ]
}